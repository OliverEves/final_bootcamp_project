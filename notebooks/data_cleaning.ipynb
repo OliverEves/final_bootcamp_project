{
 "cells": [
  {
   "cell_type": "markdown",
   "id": "3a210f84",
   "metadata": {},
   "source": [
    "# Final Bootcamp Project\n",
    "\n",
    "## Predicting Monkey-Pox in different patients\n"
   ]
  },
  {
   "cell_type": "markdown",
   "id": "941e44a2",
   "metadata": {},
   "source": [
    "#### Import Libraries"
   ]
  },
  {
   "cell_type": "code",
   "execution_count": 1,
   "id": "4dec6fc2",
   "metadata": {},
   "outputs": [],
   "source": [
    "import numpy as np\n",
    "import pandas as pd\n",
    "import yaml"
   ]
  },
  {
   "cell_type": "markdown",
   "id": "8781f91b",
   "metadata": {},
   "source": [
    "#### Open file"
   ]
  },
  {
   "cell_type": "code",
   "execution_count": 2,
   "id": "14a3f3b7",
   "metadata": {},
   "outputs": [],
   "source": [
    "with open('../params.yaml') as file:\n",
    "    config = yaml.safe_load(file)"
   ]
  },
  {
   "cell_type": "code",
   "execution_count": 11,
   "id": "dc9677af",
   "metadata": {},
   "outputs": [
    {
     "data": {
      "text/html": [
       "<div>\n",
       "<style scoped>\n",
       "    .dataframe tbody tr th:only-of-type {\n",
       "        vertical-align: middle;\n",
       "    }\n",
       "\n",
       "    .dataframe tbody tr th {\n",
       "        vertical-align: top;\n",
       "    }\n",
       "\n",
       "    .dataframe thead th {\n",
       "        text-align: right;\n",
       "    }\n",
       "</style>\n",
       "<table border=\"1\" class=\"dataframe\">\n",
       "  <thead>\n",
       "    <tr style=\"text-align: right;\">\n",
       "      <th></th>\n",
       "      <th>Patient_ID</th>\n",
       "      <th>Systemic Illness</th>\n",
       "      <th>Rectal Pain</th>\n",
       "      <th>Sore Throat</th>\n",
       "      <th>Penile Oedema</th>\n",
       "      <th>Oral Lesions</th>\n",
       "      <th>Solitary Lesion</th>\n",
       "      <th>Swollen Tonsils</th>\n",
       "      <th>HIV Infection</th>\n",
       "      <th>Sexually Transmitted Infection</th>\n",
       "      <th>MonkeyPox</th>\n",
       "    </tr>\n",
       "  </thead>\n",
       "  <tbody>\n",
       "    <tr>\n",
       "      <th>0</th>\n",
       "      <td>P0</td>\n",
       "      <td>None</td>\n",
       "      <td>False</td>\n",
       "      <td>True</td>\n",
       "      <td>True</td>\n",
       "      <td>True</td>\n",
       "      <td>False</td>\n",
       "      <td>True</td>\n",
       "      <td>False</td>\n",
       "      <td>False</td>\n",
       "      <td>Negative</td>\n",
       "    </tr>\n",
       "    <tr>\n",
       "      <th>1</th>\n",
       "      <td>P1</td>\n",
       "      <td>Fever</td>\n",
       "      <td>True</td>\n",
       "      <td>False</td>\n",
       "      <td>True</td>\n",
       "      <td>True</td>\n",
       "      <td>False</td>\n",
       "      <td>False</td>\n",
       "      <td>True</td>\n",
       "      <td>False</td>\n",
       "      <td>Positive</td>\n",
       "    </tr>\n",
       "    <tr>\n",
       "      <th>2</th>\n",
       "      <td>P2</td>\n",
       "      <td>Fever</td>\n",
       "      <td>False</td>\n",
       "      <td>True</td>\n",
       "      <td>True</td>\n",
       "      <td>False</td>\n",
       "      <td>False</td>\n",
       "      <td>False</td>\n",
       "      <td>True</td>\n",
       "      <td>False</td>\n",
       "      <td>Positive</td>\n",
       "    </tr>\n",
       "    <tr>\n",
       "      <th>3</th>\n",
       "      <td>P3</td>\n",
       "      <td>None</td>\n",
       "      <td>True</td>\n",
       "      <td>False</td>\n",
       "      <td>False</td>\n",
       "      <td>False</td>\n",
       "      <td>True</td>\n",
       "      <td>True</td>\n",
       "      <td>True</td>\n",
       "      <td>False</td>\n",
       "      <td>Positive</td>\n",
       "    </tr>\n",
       "    <tr>\n",
       "      <th>4</th>\n",
       "      <td>P4</td>\n",
       "      <td>Swollen Lymph Nodes</td>\n",
       "      <td>True</td>\n",
       "      <td>True</td>\n",
       "      <td>True</td>\n",
       "      <td>False</td>\n",
       "      <td>False</td>\n",
       "      <td>True</td>\n",
       "      <td>True</td>\n",
       "      <td>False</td>\n",
       "      <td>Positive</td>\n",
       "    </tr>\n",
       "  </tbody>\n",
       "</table>\n",
       "</div>"
      ],
      "text/plain": [
       "  Patient_ID     Systemic Illness  Rectal Pain  Sore Throat  Penile Oedema  \\\n",
       "0         P0                 None        False         True           True   \n",
       "1         P1                Fever         True        False           True   \n",
       "2         P2                Fever        False         True           True   \n",
       "3         P3                 None         True        False          False   \n",
       "4         P4  Swollen Lymph Nodes         True         True           True   \n",
       "\n",
       "   Oral Lesions  Solitary Lesion  Swollen Tonsils  HIV Infection  \\\n",
       "0          True            False             True          False   \n",
       "1          True            False            False           True   \n",
       "2         False            False            False           True   \n",
       "3         False             True             True           True   \n",
       "4         False            False             True           True   \n",
       "\n",
       "   Sexually Transmitted Infection MonkeyPox  \n",
       "0                           False  Negative  \n",
       "1                           False  Positive  \n",
       "2                           False  Positive  \n",
       "3                           False  Positive  \n",
       "4                           False  Positive  "
      ]
     },
     "execution_count": 11,
     "metadata": {},
     "output_type": "execute_result"
    }
   ],
   "source": [
    "data = pd.read_csv(config['data']['raw'])\n",
    "data.head()"
   ]
  },
  {
   "cell_type": "code",
   "execution_count": 4,
   "id": "39de4997",
   "metadata": {},
   "outputs": [
    {
     "data": {
      "text/plain": [
       "(25000, 11)"
      ]
     },
     "execution_count": 4,
     "metadata": {},
     "output_type": "execute_result"
    }
   ],
   "source": [
    "data.shape"
   ]
  },
  {
   "cell_type": "code",
   "execution_count": 5,
   "id": "c0b55fee",
   "metadata": {},
   "outputs": [
    {
     "name": "stdout",
     "output_type": "stream",
     "text": [
      "<class 'pandas.core.frame.DataFrame'>\n",
      "RangeIndex: 25000 entries, 0 to 24999\n",
      "Data columns (total 11 columns):\n",
      " #   Column                          Non-Null Count  Dtype \n",
      "---  ------                          --------------  ----- \n",
      " 0   Patient_ID                      25000 non-null  object\n",
      " 1   Systemic Illness                25000 non-null  object\n",
      " 2   Rectal Pain                     25000 non-null  bool  \n",
      " 3   Sore Throat                     25000 non-null  bool  \n",
      " 4   Penile Oedema                   25000 non-null  bool  \n",
      " 5   Oral Lesions                    25000 non-null  bool  \n",
      " 6   Solitary Lesion                 25000 non-null  bool  \n",
      " 7   Swollen Tonsils                 25000 non-null  bool  \n",
      " 8   HIV Infection                   25000 non-null  bool  \n",
      " 9   Sexually Transmitted Infection  25000 non-null  bool  \n",
      " 10  MonkeyPox                       25000 non-null  object\n",
      "dtypes: bool(8), object(3)\n",
      "memory usage: 781.4+ KB\n"
     ]
    }
   ],
   "source": [
    "data.info()"
   ]
  },
  {
   "cell_type": "code",
   "execution_count": 6,
   "id": "8f885076",
   "metadata": {},
   "outputs": [
    {
     "data": {
      "text/html": [
       "<div>\n",
       "<style scoped>\n",
       "    .dataframe tbody tr th:only-of-type {\n",
       "        vertical-align: middle;\n",
       "    }\n",
       "\n",
       "    .dataframe tbody tr th {\n",
       "        vertical-align: top;\n",
       "    }\n",
       "\n",
       "    .dataframe thead th {\n",
       "        text-align: right;\n",
       "    }\n",
       "</style>\n",
       "<table border=\"1\" class=\"dataframe\">\n",
       "  <thead>\n",
       "    <tr style=\"text-align: right;\">\n",
       "      <th></th>\n",
       "      <th>Patient_ID</th>\n",
       "      <th>Systemic Illness</th>\n",
       "      <th>Rectal Pain</th>\n",
       "      <th>Sore Throat</th>\n",
       "      <th>Penile Oedema</th>\n",
       "      <th>Oral Lesions</th>\n",
       "      <th>Solitary Lesion</th>\n",
       "      <th>Swollen Tonsils</th>\n",
       "      <th>HIV Infection</th>\n",
       "      <th>Sexually Transmitted Infection</th>\n",
       "      <th>MonkeyPox</th>\n",
       "    </tr>\n",
       "  </thead>\n",
       "  <tbody>\n",
       "    <tr>\n",
       "      <th>count</th>\n",
       "      <td>25000</td>\n",
       "      <td>25000</td>\n",
       "      <td>25000</td>\n",
       "      <td>25000</td>\n",
       "      <td>25000</td>\n",
       "      <td>25000</td>\n",
       "      <td>25000</td>\n",
       "      <td>25000</td>\n",
       "      <td>25000</td>\n",
       "      <td>25000</td>\n",
       "      <td>25000</td>\n",
       "    </tr>\n",
       "    <tr>\n",
       "      <th>unique</th>\n",
       "      <td>25000</td>\n",
       "      <td>4</td>\n",
       "      <td>2</td>\n",
       "      <td>2</td>\n",
       "      <td>2</td>\n",
       "      <td>2</td>\n",
       "      <td>2</td>\n",
       "      <td>2</td>\n",
       "      <td>2</td>\n",
       "      <td>2</td>\n",
       "      <td>2</td>\n",
       "    </tr>\n",
       "    <tr>\n",
       "      <th>top</th>\n",
       "      <td>P0</td>\n",
       "      <td>Fever</td>\n",
       "      <td>False</td>\n",
       "      <td>True</td>\n",
       "      <td>True</td>\n",
       "      <td>False</td>\n",
       "      <td>True</td>\n",
       "      <td>True</td>\n",
       "      <td>True</td>\n",
       "      <td>False</td>\n",
       "      <td>Positive</td>\n",
       "    </tr>\n",
       "    <tr>\n",
       "      <th>freq</th>\n",
       "      <td>1</td>\n",
       "      <td>6382</td>\n",
       "      <td>12655</td>\n",
       "      <td>12554</td>\n",
       "      <td>12612</td>\n",
       "      <td>12514</td>\n",
       "      <td>12527</td>\n",
       "      <td>12533</td>\n",
       "      <td>12584</td>\n",
       "      <td>12554</td>\n",
       "      <td>15909</td>\n",
       "    </tr>\n",
       "  </tbody>\n",
       "</table>\n",
       "</div>"
      ],
      "text/plain": [
       "       Patient_ID Systemic Illness Rectal Pain Sore Throat Penile Oedema  \\\n",
       "count       25000            25000       25000       25000         25000   \n",
       "unique      25000                4           2           2             2   \n",
       "top            P0            Fever       False        True          True   \n",
       "freq            1             6382       12655       12554         12612   \n",
       "\n",
       "       Oral Lesions Solitary Lesion Swollen Tonsils HIV Infection  \\\n",
       "count         25000           25000           25000         25000   \n",
       "unique            2               2               2             2   \n",
       "top           False            True            True          True   \n",
       "freq          12514           12527           12533         12584   \n",
       "\n",
       "       Sexually Transmitted Infection MonkeyPox  \n",
       "count                           25000     25000  \n",
       "unique                              2         2  \n",
       "top                             False  Positive  \n",
       "freq                            12554     15909  "
      ]
     },
     "execution_count": 6,
     "metadata": {},
     "output_type": "execute_result"
    }
   ],
   "source": [
    "data.describe()"
   ]
  },
  {
   "cell_type": "markdown",
   "id": "64f97830",
   "metadata": {},
   "source": [
    "#### Standardise column names"
   ]
  },
  {
   "cell_type": "code",
   "execution_count": 7,
   "id": "3ca689eb",
   "metadata": {},
   "outputs": [
    {
     "name": "stdout",
     "output_type": "stream",
     "text": [
      "<class 'pandas.core.frame.DataFrame'>\n",
      "RangeIndex: 25000 entries, 0 to 24999\n",
      "Data columns (total 11 columns):\n",
      " #   Column                          Non-Null Count  Dtype \n",
      "---  ------                          --------------  ----- \n",
      " 0   patient_id                      25000 non-null  object\n",
      " 1   systemic_illness                25000 non-null  object\n",
      " 2   rectal_pain                     25000 non-null  bool  \n",
      " 3   sore_throat                     25000 non-null  bool  \n",
      " 4   penile_oedema                   25000 non-null  bool  \n",
      " 5   oral_lesions                    25000 non-null  bool  \n",
      " 6   solitary_lesion                 25000 non-null  bool  \n",
      " 7   swollen_tonsils                 25000 non-null  bool  \n",
      " 8   hiv_infection                   25000 non-null  bool  \n",
      " 9   sexually_transmitted_infection  25000 non-null  bool  \n",
      " 10  monkeypox                       25000 non-null  object\n",
      "dtypes: bool(8), object(3)\n",
      "memory usage: 781.4+ KB\n"
     ]
    }
   ],
   "source": [
    "def standardize_column_names(data):\n",
    "    cols = []\n",
    "    for col in data.columns:\n",
    "        col = col.replace(\" \", \"_\")\n",
    "        cols.append(col.lower())\n",
    "\n",
    "    data.columns = cols\n",
    "    return data\n",
    "\n",
    "data = standardize_column_names(data)\n",
    "data.info()"
   ]
  },
  {
   "cell_type": "markdown",
   "id": "d461c6eb",
   "metadata": {},
   "source": [
    "#### Checking for NaN values"
   ]
  },
  {
   "cell_type": "code",
   "execution_count": 8,
   "id": "c387d4af",
   "metadata": {},
   "outputs": [
    {
     "data": {
      "text/plain": [
       "patient_id                        0\n",
       "systemic_illness                  0\n",
       "rectal_pain                       0\n",
       "sore_throat                       0\n",
       "penile_oedema                     0\n",
       "oral_lesions                      0\n",
       "solitary_lesion                   0\n",
       "swollen_tonsils                   0\n",
       "hiv_infection                     0\n",
       "sexually_transmitted_infection    0\n",
       "monkeypox                         0\n",
       "dtype: int64"
      ]
     },
     "execution_count": 8,
     "metadata": {},
     "output_type": "execute_result"
    }
   ],
   "source": [
    "data.isna().sum()"
   ]
  },
  {
   "cell_type": "markdown",
   "id": "521c7e1c",
   "metadata": {},
   "source": [
    "##### Result: No NaN values"
   ]
  },
  {
   "cell_type": "markdown",
   "id": "00179a9b",
   "metadata": {},
   "source": [
    "#### Check for duplicates"
   ]
  },
  {
   "cell_type": "code",
   "execution_count": 9,
   "id": "7599bfe6",
   "metadata": {},
   "outputs": [
    {
     "data": {
      "text/plain": [
       "False    25000\n",
       "Name: patient_id, dtype: int64"
      ]
     },
     "execution_count": 9,
     "metadata": {},
     "output_type": "execute_result"
    }
   ],
   "source": [
    "data['patient_id'].duplicated().value_counts()"
   ]
  },
  {
   "cell_type": "markdown",
   "id": "4f21bea4",
   "metadata": {},
   "source": [
    "##### Result: No duplicates"
   ]
  },
  {
   "cell_type": "markdown",
   "id": "1815fc91",
   "metadata": {},
   "source": [
    "#### Saving cleaned data"
   ]
  },
  {
   "cell_type": "code",
   "execution_count": 10,
   "id": "69ec2ed3",
   "metadata": {},
   "outputs": [],
   "source": [
    "data.to_csv(config['data']['clean'], index = False)"
   ]
  }
 ],
 "metadata": {
  "kernelspec": {
   "display_name": "Python 3 (ipykernel)",
   "language": "python",
   "name": "python3"
  },
  "language_info": {
   "codemirror_mode": {
    "name": "ipython",
    "version": 3
   },
   "file_extension": ".py",
   "mimetype": "text/x-python",
   "name": "python",
   "nbconvert_exporter": "python",
   "pygments_lexer": "ipython3",
   "version": "3.9.15"
  }
 },
 "nbformat": 4,
 "nbformat_minor": 5
}
