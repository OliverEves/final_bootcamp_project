{
 "cells": [
  {
   "cell_type": "code",
   "execution_count": 1,
   "id": "3a5ddee2",
   "metadata": {},
   "outputs": [],
   "source": [
    "import numpy as np\n",
    "import pandas as pd\n",
    "import seaborn as sns\n",
    "import matplotlib.pyplot as plt\n",
    "import yaml\n",
    "import scipy.stats as st\n",
    "from sklearn.model_selection import train_test_split\n",
    "from sklearn.preprocessing import StandardScaler\n",
    "from imblearn.over_sampling import RandomOverSampler\n",
    "import pickle\n",
    "from sklearn.feature_selection import SelectKBest, chi2\n",
    "from sklearn.linear_model import LogisticRegression\n",
    "from sklearn.model_selection import GridSearchCV, cross_val_score\n",
    "from sklearn.metrics import accuracy_score, make_scorer, cohen_kappa_score\n",
    "from sklearn.ensemble import RandomForestClassifier\n",
    "from sklearn.metrics import confusion_matrix, ConfusionMatrixDisplay\n",
    "from sklearn.neighbors import KNeighborsClassifier\n",
    "import warnings\n",
    "warnings.filterwarnings('ignore')"
   ]
  },
  {
   "cell_type": "markdown",
   "id": "a99761e7",
   "metadata": {},
   "source": [
    "#### Open file"
   ]
  },
  {
   "cell_type": "code",
   "execution_count": 2,
   "id": "856c01f9",
   "metadata": {},
   "outputs": [],
   "source": [
    "with open('../params.yaml') as file:\n",
    "    config = yaml.safe_load(file)"
   ]
  },
  {
   "cell_type": "code",
   "execution_count": 3,
   "id": "07f15769",
   "metadata": {},
   "outputs": [
    {
     "data": {
      "text/html": [
       "<div>\n",
       "<style scoped>\n",
       "    .dataframe tbody tr th:only-of-type {\n",
       "        vertical-align: middle;\n",
       "    }\n",
       "\n",
       "    .dataframe tbody tr th {\n",
       "        vertical-align: top;\n",
       "    }\n",
       "\n",
       "    .dataframe thead th {\n",
       "        text-align: right;\n",
       "    }\n",
       "</style>\n",
       "<table border=\"1\" class=\"dataframe\">\n",
       "  <thead>\n",
       "    <tr style=\"text-align: right;\">\n",
       "      <th></th>\n",
       "      <th>patient_id</th>\n",
       "      <th>systemic_illness</th>\n",
       "      <th>rectal_pain</th>\n",
       "      <th>sore_throat</th>\n",
       "      <th>penile_oedema</th>\n",
       "      <th>oral_lesions</th>\n",
       "      <th>solitary_lesion</th>\n",
       "      <th>swollen_tonsils</th>\n",
       "      <th>hiv_infection</th>\n",
       "      <th>sexually_transmitted_infection</th>\n",
       "      <th>monkeypox</th>\n",
       "    </tr>\n",
       "  </thead>\n",
       "  <tbody>\n",
       "    <tr>\n",
       "      <th>0</th>\n",
       "      <td>P0</td>\n",
       "      <td>None</td>\n",
       "      <td>False</td>\n",
       "      <td>True</td>\n",
       "      <td>True</td>\n",
       "      <td>True</td>\n",
       "      <td>False</td>\n",
       "      <td>True</td>\n",
       "      <td>False</td>\n",
       "      <td>False</td>\n",
       "      <td>Negative</td>\n",
       "    </tr>\n",
       "    <tr>\n",
       "      <th>1</th>\n",
       "      <td>P1</td>\n",
       "      <td>Fever</td>\n",
       "      <td>True</td>\n",
       "      <td>False</td>\n",
       "      <td>True</td>\n",
       "      <td>True</td>\n",
       "      <td>False</td>\n",
       "      <td>False</td>\n",
       "      <td>True</td>\n",
       "      <td>False</td>\n",
       "      <td>Positive</td>\n",
       "    </tr>\n",
       "    <tr>\n",
       "      <th>2</th>\n",
       "      <td>P2</td>\n",
       "      <td>Fever</td>\n",
       "      <td>False</td>\n",
       "      <td>True</td>\n",
       "      <td>True</td>\n",
       "      <td>False</td>\n",
       "      <td>False</td>\n",
       "      <td>False</td>\n",
       "      <td>True</td>\n",
       "      <td>False</td>\n",
       "      <td>Positive</td>\n",
       "    </tr>\n",
       "    <tr>\n",
       "      <th>3</th>\n",
       "      <td>P3</td>\n",
       "      <td>None</td>\n",
       "      <td>True</td>\n",
       "      <td>False</td>\n",
       "      <td>False</td>\n",
       "      <td>False</td>\n",
       "      <td>True</td>\n",
       "      <td>True</td>\n",
       "      <td>True</td>\n",
       "      <td>False</td>\n",
       "      <td>Positive</td>\n",
       "    </tr>\n",
       "    <tr>\n",
       "      <th>4</th>\n",
       "      <td>P4</td>\n",
       "      <td>Swollen Lymph Nodes</td>\n",
       "      <td>True</td>\n",
       "      <td>True</td>\n",
       "      <td>True</td>\n",
       "      <td>False</td>\n",
       "      <td>False</td>\n",
       "      <td>True</td>\n",
       "      <td>True</td>\n",
       "      <td>False</td>\n",
       "      <td>Positive</td>\n",
       "    </tr>\n",
       "    <tr>\n",
       "      <th>...</th>\n",
       "      <td>...</td>\n",
       "      <td>...</td>\n",
       "      <td>...</td>\n",
       "      <td>...</td>\n",
       "      <td>...</td>\n",
       "      <td>...</td>\n",
       "      <td>...</td>\n",
       "      <td>...</td>\n",
       "      <td>...</td>\n",
       "      <td>...</td>\n",
       "      <td>...</td>\n",
       "    </tr>\n",
       "    <tr>\n",
       "      <th>24995</th>\n",
       "      <td>P24995</td>\n",
       "      <td>None</td>\n",
       "      <td>True</td>\n",
       "      <td>True</td>\n",
       "      <td>False</td>\n",
       "      <td>True</td>\n",
       "      <td>True</td>\n",
       "      <td>False</td>\n",
       "      <td>False</td>\n",
       "      <td>True</td>\n",
       "      <td>Positive</td>\n",
       "    </tr>\n",
       "    <tr>\n",
       "      <th>24996</th>\n",
       "      <td>P24996</td>\n",
       "      <td>Fever</td>\n",
       "      <td>False</td>\n",
       "      <td>True</td>\n",
       "      <td>True</td>\n",
       "      <td>False</td>\n",
       "      <td>True</td>\n",
       "      <td>True</td>\n",
       "      <td>True</td>\n",
       "      <td>True</td>\n",
       "      <td>Positive</td>\n",
       "    </tr>\n",
       "    <tr>\n",
       "      <th>24997</th>\n",
       "      <td>P24997</td>\n",
       "      <td>None</td>\n",
       "      <td>True</td>\n",
       "      <td>True</td>\n",
       "      <td>False</td>\n",
       "      <td>False</td>\n",
       "      <td>True</td>\n",
       "      <td>True</td>\n",
       "      <td>False</td>\n",
       "      <td>False</td>\n",
       "      <td>Positive</td>\n",
       "    </tr>\n",
       "    <tr>\n",
       "      <th>24998</th>\n",
       "      <td>P24998</td>\n",
       "      <td>Swollen Lymph Nodes</td>\n",
       "      <td>False</td>\n",
       "      <td>True</td>\n",
       "      <td>False</td>\n",
       "      <td>True</td>\n",
       "      <td>True</td>\n",
       "      <td>True</td>\n",
       "      <td>False</td>\n",
       "      <td>False</td>\n",
       "      <td>Negative</td>\n",
       "    </tr>\n",
       "    <tr>\n",
       "      <th>24999</th>\n",
       "      <td>P24999</td>\n",
       "      <td>Swollen Lymph Nodes</td>\n",
       "      <td>False</td>\n",
       "      <td>False</td>\n",
       "      <td>True</td>\n",
       "      <td>False</td>\n",
       "      <td>False</td>\n",
       "      <td>True</td>\n",
       "      <td>True</td>\n",
       "      <td>False</td>\n",
       "      <td>Positive</td>\n",
       "    </tr>\n",
       "  </tbody>\n",
       "</table>\n",
       "<p>25000 rows × 11 columns</p>\n",
       "</div>"
      ],
      "text/plain": [
       "      patient_id     systemic_illness  rectal_pain  sore_throat  \\\n",
       "0             P0                 None        False         True   \n",
       "1             P1                Fever         True        False   \n",
       "2             P2                Fever        False         True   \n",
       "3             P3                 None         True        False   \n",
       "4             P4  Swollen Lymph Nodes         True         True   \n",
       "...          ...                  ...          ...          ...   \n",
       "24995     P24995                 None         True         True   \n",
       "24996     P24996                Fever        False         True   \n",
       "24997     P24997                 None         True         True   \n",
       "24998     P24998  Swollen Lymph Nodes        False         True   \n",
       "24999     P24999  Swollen Lymph Nodes        False        False   \n",
       "\n",
       "       penile_oedema  oral_lesions  solitary_lesion  swollen_tonsils  \\\n",
       "0               True          True            False             True   \n",
       "1               True          True            False            False   \n",
       "2               True         False            False            False   \n",
       "3              False         False             True             True   \n",
       "4               True         False            False             True   \n",
       "...              ...           ...              ...              ...   \n",
       "24995          False          True             True            False   \n",
       "24996           True         False             True             True   \n",
       "24997          False         False             True             True   \n",
       "24998          False          True             True             True   \n",
       "24999           True         False            False             True   \n",
       "\n",
       "       hiv_infection  sexually_transmitted_infection monkeypox  \n",
       "0              False                           False  Negative  \n",
       "1               True                           False  Positive  \n",
       "2               True                           False  Positive  \n",
       "3               True                           False  Positive  \n",
       "4               True                           False  Positive  \n",
       "...              ...                             ...       ...  \n",
       "24995          False                            True  Positive  \n",
       "24996           True                            True  Positive  \n",
       "24997          False                           False  Positive  \n",
       "24998          False                           False  Negative  \n",
       "24999           True                           False  Positive  \n",
       "\n",
       "[25000 rows x 11 columns]"
      ]
     },
     "execution_count": 3,
     "metadata": {},
     "output_type": "execute_result"
    }
   ],
   "source": [
    "data = pd.read_csv(config['data']['clean'])\n",
    "data"
   ]
  },
  {
   "cell_type": "markdown",
   "id": "39feeb32",
   "metadata": {},
   "source": [
    "#### Drop column 'patient_id'"
   ]
  },
  {
   "cell_type": "code",
   "execution_count": 4,
   "id": "d97d430c",
   "metadata": {},
   "outputs": [
    {
     "data": {
      "text/html": [
       "<div>\n",
       "<style scoped>\n",
       "    .dataframe tbody tr th:only-of-type {\n",
       "        vertical-align: middle;\n",
       "    }\n",
       "\n",
       "    .dataframe tbody tr th {\n",
       "        vertical-align: top;\n",
       "    }\n",
       "\n",
       "    .dataframe thead th {\n",
       "        text-align: right;\n",
       "    }\n",
       "</style>\n",
       "<table border=\"1\" class=\"dataframe\">\n",
       "  <thead>\n",
       "    <tr style=\"text-align: right;\">\n",
       "      <th></th>\n",
       "      <th>systemic_illness</th>\n",
       "      <th>rectal_pain</th>\n",
       "      <th>sore_throat</th>\n",
       "      <th>penile_oedema</th>\n",
       "      <th>oral_lesions</th>\n",
       "      <th>solitary_lesion</th>\n",
       "      <th>swollen_tonsils</th>\n",
       "      <th>hiv_infection</th>\n",
       "      <th>sexually_transmitted_infection</th>\n",
       "      <th>monkeypox</th>\n",
       "    </tr>\n",
       "  </thead>\n",
       "  <tbody>\n",
       "    <tr>\n",
       "      <th>0</th>\n",
       "      <td>None</td>\n",
       "      <td>False</td>\n",
       "      <td>True</td>\n",
       "      <td>True</td>\n",
       "      <td>True</td>\n",
       "      <td>False</td>\n",
       "      <td>True</td>\n",
       "      <td>False</td>\n",
       "      <td>False</td>\n",
       "      <td>Negative</td>\n",
       "    </tr>\n",
       "    <tr>\n",
       "      <th>1</th>\n",
       "      <td>Fever</td>\n",
       "      <td>True</td>\n",
       "      <td>False</td>\n",
       "      <td>True</td>\n",
       "      <td>True</td>\n",
       "      <td>False</td>\n",
       "      <td>False</td>\n",
       "      <td>True</td>\n",
       "      <td>False</td>\n",
       "      <td>Positive</td>\n",
       "    </tr>\n",
       "    <tr>\n",
       "      <th>2</th>\n",
       "      <td>Fever</td>\n",
       "      <td>False</td>\n",
       "      <td>True</td>\n",
       "      <td>True</td>\n",
       "      <td>False</td>\n",
       "      <td>False</td>\n",
       "      <td>False</td>\n",
       "      <td>True</td>\n",
       "      <td>False</td>\n",
       "      <td>Positive</td>\n",
       "    </tr>\n",
       "    <tr>\n",
       "      <th>3</th>\n",
       "      <td>None</td>\n",
       "      <td>True</td>\n",
       "      <td>False</td>\n",
       "      <td>False</td>\n",
       "      <td>False</td>\n",
       "      <td>True</td>\n",
       "      <td>True</td>\n",
       "      <td>True</td>\n",
       "      <td>False</td>\n",
       "      <td>Positive</td>\n",
       "    </tr>\n",
       "    <tr>\n",
       "      <th>4</th>\n",
       "      <td>Swollen Lymph Nodes</td>\n",
       "      <td>True</td>\n",
       "      <td>True</td>\n",
       "      <td>True</td>\n",
       "      <td>False</td>\n",
       "      <td>False</td>\n",
       "      <td>True</td>\n",
       "      <td>True</td>\n",
       "      <td>False</td>\n",
       "      <td>Positive</td>\n",
       "    </tr>\n",
       "    <tr>\n",
       "      <th>...</th>\n",
       "      <td>...</td>\n",
       "      <td>...</td>\n",
       "      <td>...</td>\n",
       "      <td>...</td>\n",
       "      <td>...</td>\n",
       "      <td>...</td>\n",
       "      <td>...</td>\n",
       "      <td>...</td>\n",
       "      <td>...</td>\n",
       "      <td>...</td>\n",
       "    </tr>\n",
       "    <tr>\n",
       "      <th>24995</th>\n",
       "      <td>None</td>\n",
       "      <td>True</td>\n",
       "      <td>True</td>\n",
       "      <td>False</td>\n",
       "      <td>True</td>\n",
       "      <td>True</td>\n",
       "      <td>False</td>\n",
       "      <td>False</td>\n",
       "      <td>True</td>\n",
       "      <td>Positive</td>\n",
       "    </tr>\n",
       "    <tr>\n",
       "      <th>24996</th>\n",
       "      <td>Fever</td>\n",
       "      <td>False</td>\n",
       "      <td>True</td>\n",
       "      <td>True</td>\n",
       "      <td>False</td>\n",
       "      <td>True</td>\n",
       "      <td>True</td>\n",
       "      <td>True</td>\n",
       "      <td>True</td>\n",
       "      <td>Positive</td>\n",
       "    </tr>\n",
       "    <tr>\n",
       "      <th>24997</th>\n",
       "      <td>None</td>\n",
       "      <td>True</td>\n",
       "      <td>True</td>\n",
       "      <td>False</td>\n",
       "      <td>False</td>\n",
       "      <td>True</td>\n",
       "      <td>True</td>\n",
       "      <td>False</td>\n",
       "      <td>False</td>\n",
       "      <td>Positive</td>\n",
       "    </tr>\n",
       "    <tr>\n",
       "      <th>24998</th>\n",
       "      <td>Swollen Lymph Nodes</td>\n",
       "      <td>False</td>\n",
       "      <td>True</td>\n",
       "      <td>False</td>\n",
       "      <td>True</td>\n",
       "      <td>True</td>\n",
       "      <td>True</td>\n",
       "      <td>False</td>\n",
       "      <td>False</td>\n",
       "      <td>Negative</td>\n",
       "    </tr>\n",
       "    <tr>\n",
       "      <th>24999</th>\n",
       "      <td>Swollen Lymph Nodes</td>\n",
       "      <td>False</td>\n",
       "      <td>False</td>\n",
       "      <td>True</td>\n",
       "      <td>False</td>\n",
       "      <td>False</td>\n",
       "      <td>True</td>\n",
       "      <td>True</td>\n",
       "      <td>False</td>\n",
       "      <td>Positive</td>\n",
       "    </tr>\n",
       "  </tbody>\n",
       "</table>\n",
       "<p>25000 rows × 10 columns</p>\n",
       "</div>"
      ],
      "text/plain": [
       "          systemic_illness  rectal_pain  sore_throat  penile_oedema  \\\n",
       "0                     None        False         True           True   \n",
       "1                    Fever         True        False           True   \n",
       "2                    Fever        False         True           True   \n",
       "3                     None         True        False          False   \n",
       "4      Swollen Lymph Nodes         True         True           True   \n",
       "...                    ...          ...          ...            ...   \n",
       "24995                 None         True         True          False   \n",
       "24996                Fever        False         True           True   \n",
       "24997                 None         True         True          False   \n",
       "24998  Swollen Lymph Nodes        False         True          False   \n",
       "24999  Swollen Lymph Nodes        False        False           True   \n",
       "\n",
       "       oral_lesions  solitary_lesion  swollen_tonsils  hiv_infection  \\\n",
       "0              True            False             True          False   \n",
       "1              True            False            False           True   \n",
       "2             False            False            False           True   \n",
       "3             False             True             True           True   \n",
       "4             False            False             True           True   \n",
       "...             ...              ...              ...            ...   \n",
       "24995          True             True            False          False   \n",
       "24996         False             True             True           True   \n",
       "24997         False             True             True          False   \n",
       "24998          True             True             True          False   \n",
       "24999         False            False             True           True   \n",
       "\n",
       "       sexually_transmitted_infection monkeypox  \n",
       "0                               False  Negative  \n",
       "1                               False  Positive  \n",
       "2                               False  Positive  \n",
       "3                               False  Positive  \n",
       "4                               False  Positive  \n",
       "...                               ...       ...  \n",
       "24995                            True  Positive  \n",
       "24996                            True  Positive  \n",
       "24997                           False  Positive  \n",
       "24998                           False  Negative  \n",
       "24999                           False  Positive  \n",
       "\n",
       "[25000 rows x 10 columns]"
      ]
     },
     "execution_count": 4,
     "metadata": {},
     "output_type": "execute_result"
    }
   ],
   "source": [
    "data = data.drop(['patient_id'], axis = 1)\n",
    "data"
   ]
  },
  {
   "cell_type": "code",
   "execution_count": 5,
   "id": "7ad5a5c9",
   "metadata": {},
   "outputs": [
    {
     "data": {
      "text/html": [
       "<div>\n",
       "<style scoped>\n",
       "    .dataframe tbody tr th:only-of-type {\n",
       "        vertical-align: middle;\n",
       "    }\n",
       "\n",
       "    .dataframe tbody tr th {\n",
       "        vertical-align: top;\n",
       "    }\n",
       "\n",
       "    .dataframe thead th {\n",
       "        text-align: right;\n",
       "    }\n",
       "</style>\n",
       "<table border=\"1\" class=\"dataframe\">\n",
       "  <thead>\n",
       "    <tr style=\"text-align: right;\">\n",
       "      <th></th>\n",
       "      <th>count</th>\n",
       "      <th>unique</th>\n",
       "      <th>top</th>\n",
       "      <th>freq</th>\n",
       "    </tr>\n",
       "  </thead>\n",
       "  <tbody>\n",
       "    <tr>\n",
       "      <th>systemic_illness</th>\n",
       "      <td>25000</td>\n",
       "      <td>4</td>\n",
       "      <td>Fever</td>\n",
       "      <td>6382</td>\n",
       "    </tr>\n",
       "    <tr>\n",
       "      <th>monkeypox</th>\n",
       "      <td>25000</td>\n",
       "      <td>2</td>\n",
       "      <td>Positive</td>\n",
       "      <td>15909</td>\n",
       "    </tr>\n",
       "  </tbody>\n",
       "</table>\n",
       "</div>"
      ],
      "text/plain": [
       "                  count unique       top   freq\n",
       "systemic_illness  25000      4     Fever   6382\n",
       "monkeypox         25000      2  Positive  15909"
      ]
     },
     "execution_count": 5,
     "metadata": {},
     "output_type": "execute_result"
    }
   ],
   "source": [
    "data.describe(include=object).T"
   ]
  },
  {
   "cell_type": "markdown",
   "id": "6c48d188",
   "metadata": {},
   "source": [
    "#### X/y split "
   ]
  },
  {
   "cell_type": "code",
   "execution_count": 6,
   "id": "8eb3eb67",
   "metadata": {},
   "outputs": [],
   "source": [
    "y = data['monkeypox']\n",
    "X = data.drop(['monkeypox'], axis = 1)"
   ]
  },
  {
   "cell_type": "markdown",
   "id": "ae18c837",
   "metadata": {},
   "source": [
    "#### Encode categorical data"
   ]
  },
  {
   "cell_type": "code",
   "execution_count": 7,
   "id": "9a52a9b3",
   "metadata": {},
   "outputs": [],
   "source": [
    "X_bool = X.drop(['systemic_illness'], axis = 1)\n",
    "X_cat = X['systemic_illness']"
   ]
  },
  {
   "cell_type": "code",
   "execution_count": 8,
   "id": "0d24f9ef",
   "metadata": {},
   "outputs": [
    {
     "data": {
      "text/html": [
       "<div>\n",
       "<style scoped>\n",
       "    .dataframe tbody tr th:only-of-type {\n",
       "        vertical-align: middle;\n",
       "    }\n",
       "\n",
       "    .dataframe tbody tr th {\n",
       "        vertical-align: top;\n",
       "    }\n",
       "\n",
       "    .dataframe thead th {\n",
       "        text-align: right;\n",
       "    }\n",
       "</style>\n",
       "<table border=\"1\" class=\"dataframe\">\n",
       "  <thead>\n",
       "    <tr style=\"text-align: right;\">\n",
       "      <th></th>\n",
       "      <th>Muscle Aches and Pain</th>\n",
       "      <th>None</th>\n",
       "      <th>Swollen Lymph Nodes</th>\n",
       "    </tr>\n",
       "  </thead>\n",
       "  <tbody>\n",
       "    <tr>\n",
       "      <th>0</th>\n",
       "      <td>0</td>\n",
       "      <td>1</td>\n",
       "      <td>0</td>\n",
       "    </tr>\n",
       "    <tr>\n",
       "      <th>1</th>\n",
       "      <td>0</td>\n",
       "      <td>0</td>\n",
       "      <td>0</td>\n",
       "    </tr>\n",
       "    <tr>\n",
       "      <th>2</th>\n",
       "      <td>0</td>\n",
       "      <td>0</td>\n",
       "      <td>0</td>\n",
       "    </tr>\n",
       "    <tr>\n",
       "      <th>3</th>\n",
       "      <td>0</td>\n",
       "      <td>1</td>\n",
       "      <td>0</td>\n",
       "    </tr>\n",
       "    <tr>\n",
       "      <th>4</th>\n",
       "      <td>0</td>\n",
       "      <td>0</td>\n",
       "      <td>1</td>\n",
       "    </tr>\n",
       "    <tr>\n",
       "      <th>...</th>\n",
       "      <td>...</td>\n",
       "      <td>...</td>\n",
       "      <td>...</td>\n",
       "    </tr>\n",
       "    <tr>\n",
       "      <th>24995</th>\n",
       "      <td>0</td>\n",
       "      <td>1</td>\n",
       "      <td>0</td>\n",
       "    </tr>\n",
       "    <tr>\n",
       "      <th>24996</th>\n",
       "      <td>0</td>\n",
       "      <td>0</td>\n",
       "      <td>0</td>\n",
       "    </tr>\n",
       "    <tr>\n",
       "      <th>24997</th>\n",
       "      <td>0</td>\n",
       "      <td>1</td>\n",
       "      <td>0</td>\n",
       "    </tr>\n",
       "    <tr>\n",
       "      <th>24998</th>\n",
       "      <td>0</td>\n",
       "      <td>0</td>\n",
       "      <td>1</td>\n",
       "    </tr>\n",
       "    <tr>\n",
       "      <th>24999</th>\n",
       "      <td>0</td>\n",
       "      <td>0</td>\n",
       "      <td>1</td>\n",
       "    </tr>\n",
       "  </tbody>\n",
       "</table>\n",
       "<p>25000 rows × 3 columns</p>\n",
       "</div>"
      ],
      "text/plain": [
       "       Muscle Aches and Pain  None  Swollen Lymph Nodes\n",
       "0                          0     1                    0\n",
       "1                          0     0                    0\n",
       "2                          0     0                    0\n",
       "3                          0     1                    0\n",
       "4                          0     0                    1\n",
       "...                      ...   ...                  ...\n",
       "24995                      0     1                    0\n",
       "24996                      0     0                    0\n",
       "24997                      0     1                    0\n",
       "24998                      0     0                    1\n",
       "24999                      0     0                    1\n",
       "\n",
       "[25000 rows x 3 columns]"
      ]
     },
     "execution_count": 8,
     "metadata": {},
     "output_type": "execute_result"
    }
   ],
   "source": [
    "X_cat = pd.get_dummies((X_cat), drop_first=True)\n",
    "X_cat"
   ]
  },
  {
   "cell_type": "markdown",
   "id": "db95fa8c",
   "metadata": {},
   "source": [
    "#### Concatenate categorical and boolean data again "
   ]
  },
  {
   "cell_type": "code",
   "execution_count": 9,
   "id": "eb28f698",
   "metadata": {},
   "outputs": [
    {
     "data": {
      "text/html": [
       "<div>\n",
       "<style scoped>\n",
       "    .dataframe tbody tr th:only-of-type {\n",
       "        vertical-align: middle;\n",
       "    }\n",
       "\n",
       "    .dataframe tbody tr th {\n",
       "        vertical-align: top;\n",
       "    }\n",
       "\n",
       "    .dataframe thead th {\n",
       "        text-align: right;\n",
       "    }\n",
       "</style>\n",
       "<table border=\"1\" class=\"dataframe\">\n",
       "  <thead>\n",
       "    <tr style=\"text-align: right;\">\n",
       "      <th></th>\n",
       "      <th>Muscle Aches and Pain</th>\n",
       "      <th>None</th>\n",
       "      <th>Swollen Lymph Nodes</th>\n",
       "      <th>rectal_pain</th>\n",
       "      <th>sore_throat</th>\n",
       "      <th>penile_oedema</th>\n",
       "      <th>oral_lesions</th>\n",
       "      <th>solitary_lesion</th>\n",
       "      <th>swollen_tonsils</th>\n",
       "      <th>hiv_infection</th>\n",
       "      <th>sexually_transmitted_infection</th>\n",
       "    </tr>\n",
       "  </thead>\n",
       "  <tbody>\n",
       "    <tr>\n",
       "      <th>0</th>\n",
       "      <td>0</td>\n",
       "      <td>1</td>\n",
       "      <td>0</td>\n",
       "      <td>False</td>\n",
       "      <td>True</td>\n",
       "      <td>True</td>\n",
       "      <td>True</td>\n",
       "      <td>False</td>\n",
       "      <td>True</td>\n",
       "      <td>False</td>\n",
       "      <td>False</td>\n",
       "    </tr>\n",
       "    <tr>\n",
       "      <th>1</th>\n",
       "      <td>0</td>\n",
       "      <td>0</td>\n",
       "      <td>0</td>\n",
       "      <td>True</td>\n",
       "      <td>False</td>\n",
       "      <td>True</td>\n",
       "      <td>True</td>\n",
       "      <td>False</td>\n",
       "      <td>False</td>\n",
       "      <td>True</td>\n",
       "      <td>False</td>\n",
       "    </tr>\n",
       "    <tr>\n",
       "      <th>2</th>\n",
       "      <td>0</td>\n",
       "      <td>0</td>\n",
       "      <td>0</td>\n",
       "      <td>False</td>\n",
       "      <td>True</td>\n",
       "      <td>True</td>\n",
       "      <td>False</td>\n",
       "      <td>False</td>\n",
       "      <td>False</td>\n",
       "      <td>True</td>\n",
       "      <td>False</td>\n",
       "    </tr>\n",
       "    <tr>\n",
       "      <th>3</th>\n",
       "      <td>0</td>\n",
       "      <td>1</td>\n",
       "      <td>0</td>\n",
       "      <td>True</td>\n",
       "      <td>False</td>\n",
       "      <td>False</td>\n",
       "      <td>False</td>\n",
       "      <td>True</td>\n",
       "      <td>True</td>\n",
       "      <td>True</td>\n",
       "      <td>False</td>\n",
       "    </tr>\n",
       "    <tr>\n",
       "      <th>4</th>\n",
       "      <td>0</td>\n",
       "      <td>0</td>\n",
       "      <td>1</td>\n",
       "      <td>True</td>\n",
       "      <td>True</td>\n",
       "      <td>True</td>\n",
       "      <td>False</td>\n",
       "      <td>False</td>\n",
       "      <td>True</td>\n",
       "      <td>True</td>\n",
       "      <td>False</td>\n",
       "    </tr>\n",
       "    <tr>\n",
       "      <th>...</th>\n",
       "      <td>...</td>\n",
       "      <td>...</td>\n",
       "      <td>...</td>\n",
       "      <td>...</td>\n",
       "      <td>...</td>\n",
       "      <td>...</td>\n",
       "      <td>...</td>\n",
       "      <td>...</td>\n",
       "      <td>...</td>\n",
       "      <td>...</td>\n",
       "      <td>...</td>\n",
       "    </tr>\n",
       "    <tr>\n",
       "      <th>24995</th>\n",
       "      <td>0</td>\n",
       "      <td>1</td>\n",
       "      <td>0</td>\n",
       "      <td>True</td>\n",
       "      <td>True</td>\n",
       "      <td>False</td>\n",
       "      <td>True</td>\n",
       "      <td>True</td>\n",
       "      <td>False</td>\n",
       "      <td>False</td>\n",
       "      <td>True</td>\n",
       "    </tr>\n",
       "    <tr>\n",
       "      <th>24996</th>\n",
       "      <td>0</td>\n",
       "      <td>0</td>\n",
       "      <td>0</td>\n",
       "      <td>False</td>\n",
       "      <td>True</td>\n",
       "      <td>True</td>\n",
       "      <td>False</td>\n",
       "      <td>True</td>\n",
       "      <td>True</td>\n",
       "      <td>True</td>\n",
       "      <td>True</td>\n",
       "    </tr>\n",
       "    <tr>\n",
       "      <th>24997</th>\n",
       "      <td>0</td>\n",
       "      <td>1</td>\n",
       "      <td>0</td>\n",
       "      <td>True</td>\n",
       "      <td>True</td>\n",
       "      <td>False</td>\n",
       "      <td>False</td>\n",
       "      <td>True</td>\n",
       "      <td>True</td>\n",
       "      <td>False</td>\n",
       "      <td>False</td>\n",
       "    </tr>\n",
       "    <tr>\n",
       "      <th>24998</th>\n",
       "      <td>0</td>\n",
       "      <td>0</td>\n",
       "      <td>1</td>\n",
       "      <td>False</td>\n",
       "      <td>True</td>\n",
       "      <td>False</td>\n",
       "      <td>True</td>\n",
       "      <td>True</td>\n",
       "      <td>True</td>\n",
       "      <td>False</td>\n",
       "      <td>False</td>\n",
       "    </tr>\n",
       "    <tr>\n",
       "      <th>24999</th>\n",
       "      <td>0</td>\n",
       "      <td>0</td>\n",
       "      <td>1</td>\n",
       "      <td>False</td>\n",
       "      <td>False</td>\n",
       "      <td>True</td>\n",
       "      <td>False</td>\n",
       "      <td>False</td>\n",
       "      <td>True</td>\n",
       "      <td>True</td>\n",
       "      <td>False</td>\n",
       "    </tr>\n",
       "  </tbody>\n",
       "</table>\n",
       "<p>25000 rows × 11 columns</p>\n",
       "</div>"
      ],
      "text/plain": [
       "       Muscle Aches and Pain  None  Swollen Lymph Nodes  rectal_pain  \\\n",
       "0                          0     1                    0        False   \n",
       "1                          0     0                    0         True   \n",
       "2                          0     0                    0        False   \n",
       "3                          0     1                    0         True   \n",
       "4                          0     0                    1         True   \n",
       "...                      ...   ...                  ...          ...   \n",
       "24995                      0     1                    0         True   \n",
       "24996                      0     0                    0        False   \n",
       "24997                      0     1                    0         True   \n",
       "24998                      0     0                    1        False   \n",
       "24999                      0     0                    1        False   \n",
       "\n",
       "       sore_throat  penile_oedema  oral_lesions  solitary_lesion  \\\n",
       "0             True           True          True            False   \n",
       "1            False           True          True            False   \n",
       "2             True           True         False            False   \n",
       "3            False          False         False             True   \n",
       "4             True           True         False            False   \n",
       "...            ...            ...           ...              ...   \n",
       "24995         True          False          True             True   \n",
       "24996         True           True         False             True   \n",
       "24997         True          False         False             True   \n",
       "24998         True          False          True             True   \n",
       "24999        False           True         False            False   \n",
       "\n",
       "       swollen_tonsils  hiv_infection  sexually_transmitted_infection  \n",
       "0                 True          False                           False  \n",
       "1                False           True                           False  \n",
       "2                False           True                           False  \n",
       "3                 True           True                           False  \n",
       "4                 True           True                           False  \n",
       "...                ...            ...                             ...  \n",
       "24995            False          False                            True  \n",
       "24996             True           True                            True  \n",
       "24997             True          False                           False  \n",
       "24998             True          False                           False  \n",
       "24999             True           True                           False  \n",
       "\n",
       "[25000 rows x 11 columns]"
      ]
     },
     "execution_count": 9,
     "metadata": {},
     "output_type": "execute_result"
    }
   ],
   "source": [
    "X = pd.concat([X_cat, X_bool], axis=1)\n",
    "X"
   ]
  },
  {
   "cell_type": "markdown",
   "id": "4e269def",
   "metadata": {},
   "source": [
    "#### Standardise column names after encoding"
   ]
  },
  {
   "cell_type": "code",
   "execution_count": 10,
   "id": "5f40b524",
   "metadata": {},
   "outputs": [
    {
     "name": "stdout",
     "output_type": "stream",
     "text": [
      "<class 'pandas.core.frame.DataFrame'>\n",
      "RangeIndex: 25000 entries, 0 to 24999\n",
      "Data columns (total 11 columns):\n",
      " #   Column                          Non-Null Count  Dtype\n",
      "---  ------                          --------------  -----\n",
      " 0   muscle_aches_and_pain           25000 non-null  uint8\n",
      " 1   none                            25000 non-null  uint8\n",
      " 2   swollen_lymph_nodes             25000 non-null  uint8\n",
      " 3   rectal_pain                     25000 non-null  bool \n",
      " 4   sore_throat                     25000 non-null  bool \n",
      " 5   penile_oedema                   25000 non-null  bool \n",
      " 6   oral_lesions                    25000 non-null  bool \n",
      " 7   solitary_lesion                 25000 non-null  bool \n",
      " 8   swollen_tonsils                 25000 non-null  bool \n",
      " 9   hiv_infection                   25000 non-null  bool \n",
      " 10  sexually_transmitted_infection  25000 non-null  bool \n",
      "dtypes: bool(8), uint8(3)\n",
      "memory usage: 268.7 KB\n"
     ]
    }
   ],
   "source": [
    "def standardize_column_names(X):\n",
    "    cols = []\n",
    "    for col in X.columns:\n",
    "        col = col.replace(\" \", \"_\")\n",
    "        cols.append(col.lower())\n",
    "\n",
    "    X.columns = cols\n",
    "    return X\n",
    "\n",
    "X = standardize_column_names(X)\n",
    "X.info()"
   ]
  },
  {
   "cell_type": "markdown",
   "id": "ae14eac4",
   "metadata": {},
   "source": [
    "#### Train/test split"
   ]
  },
  {
   "cell_type": "code",
   "execution_count": 11,
   "id": "cc57b30b",
   "metadata": {},
   "outputs": [],
   "source": [
    "X_train, X_test, y_train, y_test = train_test_split(X, y, test_size=0.2, random_state=0)\n",
    "\n",
    "X_train = pd.DataFrame(X_train)\n",
    "X_test = pd.DataFrame(X_test)\n",
    "\n",
    "X_train.columns = X.columns\n",
    "X_test.columns = X.columns"
   ]
  },
  {
   "cell_type": "markdown",
   "id": "55a5186a",
   "metadata": {},
   "source": [
    "#### Apply StandardScaler"
   ]
  },
  {
   "cell_type": "code",
   "execution_count": 12,
   "id": "eab97666",
   "metadata": {},
   "outputs": [],
   "source": [
    "transformer = StandardScaler()\n",
    "transformer.fit(X_train)\n",
    "\n",
    "pickle.dump(transformer, open(config['scalers']['standardscaler'], 'wb'))\n",
    "\n",
    "X_train_standardized = transformer.transform(X_train)\n",
    "X_test_standardized = transformer.transform(X_test)\n",
    "\n",
    "X_train_scaled = pd.DataFrame(X_train_standardized, columns=X_train.columns)\n",
    "X_test_scaled = pd.DataFrame(X_test_standardized, columns=X_test.columns)"
   ]
  },
  {
   "cell_type": "markdown",
   "id": "73defd6e",
   "metadata": {},
   "source": [
    "#### Checking the target column for imbalances"
   ]
  },
  {
   "cell_type": "code",
   "execution_count": 13,
   "id": "e3758319",
   "metadata": {},
   "outputs": [
    {
     "data": {
      "text/plain": [
       "Positive    15909\n",
       "Negative     9091\n",
       "Name: monkeypox, dtype: int64"
      ]
     },
     "execution_count": 13,
     "metadata": {},
     "output_type": "execute_result"
    }
   ],
   "source": [
    "y.value_counts()"
   ]
  },
  {
   "cell_type": "markdown",
   "id": "e774f372",
   "metadata": {},
   "source": [
    "##### Result: Slight imbalance in the target column ('monkeypox')"
   ]
  },
  {
   "cell_type": "markdown",
   "id": "4dfe9c0e",
   "metadata": {},
   "source": [
    "#### Upsampling the train set"
   ]
  },
  {
   "cell_type": "code",
   "execution_count": 14,
   "id": "b2697934",
   "metadata": {},
   "outputs": [],
   "source": [
    "ros = RandomOverSampler(random_state=0)\n",
    "X_train_scaled_res, y_train_res = ros.fit_resample(X_train_scaled,y_train)"
   ]
  },
  {
   "cell_type": "code",
   "execution_count": 15,
   "id": "744482a9",
   "metadata": {},
   "outputs": [
    {
     "data": {
      "text/plain": [
       "0"
      ]
     },
     "execution_count": 15,
     "metadata": {},
     "output_type": "execute_result"
    }
   ],
   "source": [
    "y_train_res.isna().sum()"
   ]
  },
  {
   "cell_type": "code",
   "execution_count": 16,
   "id": "d233e927",
   "metadata": {},
   "outputs": [
    {
     "data": {
      "text/plain": [
       "Positive    12725\n",
       "Negative    12725\n",
       "Name: monkeypox, dtype: int64"
      ]
     },
     "execution_count": 16,
     "metadata": {},
     "output_type": "execute_result"
    }
   ],
   "source": [
    "y_train_res.value_counts()"
   ]
  },
  {
   "cell_type": "markdown",
   "id": "be31c20c",
   "metadata": {},
   "source": [
    "#### GridSearch for RandomForestClassifier"
   ]
  },
  {
   "cell_type": "code",
   "execution_count": 17,
   "id": "9bb18306",
   "metadata": {},
   "outputs": [],
   "source": [
    "params = {\n",
    "    'criterion': ['gini', 'entropy', 'log_loss'],\n",
    "    'min_samples_leaf': [2,4],\n",
    "    'min_samples_split': [2,4]\n",
    "}"
   ]
  },
  {
   "cell_type": "code",
   "execution_count": 18,
   "id": "447a0f71",
   "metadata": {},
   "outputs": [
    {
     "name": "stdout",
     "output_type": "stream",
     "text": [
      "Fitting 5 folds for each of 12 candidates, totalling 60 fits\n",
      "[CV 1/5] END criterion=gini, min_samples_leaf=2, min_samples_split=2;, score=0.632 total time=   0.7s\n",
      "[CV 2/5] END criterion=gini, min_samples_leaf=2, min_samples_split=2;, score=0.626 total time=   0.7s\n",
      "[CV 3/5] END criterion=gini, min_samples_leaf=2, min_samples_split=2;, score=0.639 total time=   0.7s\n",
      "[CV 4/5] END criterion=gini, min_samples_leaf=2, min_samples_split=2;, score=0.655 total time=   0.7s\n",
      "[CV 5/5] END criterion=gini, min_samples_leaf=2, min_samples_split=2;, score=0.638 total time=   0.7s\n",
      "[CV 1/5] END criterion=gini, min_samples_leaf=2, min_samples_split=4;, score=0.630 total time=   0.7s\n",
      "[CV 2/5] END criterion=gini, min_samples_leaf=2, min_samples_split=4;, score=0.629 total time=   0.7s\n",
      "[CV 3/5] END criterion=gini, min_samples_leaf=2, min_samples_split=4;, score=0.637 total time=   0.7s\n",
      "[CV 4/5] END criterion=gini, min_samples_leaf=2, min_samples_split=4;, score=0.656 total time=   0.7s\n",
      "[CV 5/5] END criterion=gini, min_samples_leaf=2, min_samples_split=4;, score=0.637 total time=   0.7s\n",
      "[CV 1/5] END criterion=gini, min_samples_leaf=4, min_samples_split=2;, score=0.633 total time=   0.7s\n",
      "[CV 2/5] END criterion=gini, min_samples_leaf=4, min_samples_split=2;, score=0.628 total time=   0.7s\n",
      "[CV 3/5] END criterion=gini, min_samples_leaf=4, min_samples_split=2;, score=0.637 total time=   0.7s\n",
      "[CV 4/5] END criterion=gini, min_samples_leaf=4, min_samples_split=2;, score=0.654 total time=   0.7s\n",
      "[CV 5/5] END criterion=gini, min_samples_leaf=4, min_samples_split=2;, score=0.637 total time=   0.7s\n",
      "[CV 1/5] END criterion=gini, min_samples_leaf=4, min_samples_split=4;, score=0.630 total time=   0.7s\n",
      "[CV 2/5] END criterion=gini, min_samples_leaf=4, min_samples_split=4;, score=0.627 total time=   0.7s\n",
      "[CV 3/5] END criterion=gini, min_samples_leaf=4, min_samples_split=4;, score=0.638 total time=   0.7s\n",
      "[CV 4/5] END criterion=gini, min_samples_leaf=4, min_samples_split=4;, score=0.655 total time=   0.7s\n",
      "[CV 5/5] END criterion=gini, min_samples_leaf=4, min_samples_split=4;, score=0.638 total time=   0.7s\n",
      "[CV 1/5] END criterion=entropy, min_samples_leaf=2, min_samples_split=2;, score=0.630 total time=   0.7s\n",
      "[CV 2/5] END criterion=entropy, min_samples_leaf=2, min_samples_split=2;, score=0.626 total time=   0.7s\n",
      "[CV 3/5] END criterion=entropy, min_samples_leaf=2, min_samples_split=2;, score=0.638 total time=   0.7s\n",
      "[CV 4/5] END criterion=entropy, min_samples_leaf=2, min_samples_split=2;, score=0.656 total time=   0.7s\n",
      "[CV 5/5] END criterion=entropy, min_samples_leaf=2, min_samples_split=2;, score=0.634 total time=   0.7s\n",
      "[CV 1/5] END criterion=entropy, min_samples_leaf=2, min_samples_split=4;, score=0.630 total time=   0.7s\n",
      "[CV 2/5] END criterion=entropy, min_samples_leaf=2, min_samples_split=4;, score=0.627 total time=   0.7s\n",
      "[CV 3/5] END criterion=entropy, min_samples_leaf=2, min_samples_split=4;, score=0.637 total time=   0.7s\n",
      "[CV 4/5] END criterion=entropy, min_samples_leaf=2, min_samples_split=4;, score=0.654 total time=   0.7s\n",
      "[CV 5/5] END criterion=entropy, min_samples_leaf=2, min_samples_split=4;, score=0.636 total time=   0.7s\n",
      "[CV 1/5] END criterion=entropy, min_samples_leaf=4, min_samples_split=2;, score=0.626 total time=   0.7s\n",
      "[CV 2/5] END criterion=entropy, min_samples_leaf=4, min_samples_split=2;, score=0.627 total time=   0.7s\n",
      "[CV 3/5] END criterion=entropy, min_samples_leaf=4, min_samples_split=2;, score=0.638 total time=   0.7s\n",
      "[CV 4/5] END criterion=entropy, min_samples_leaf=4, min_samples_split=2;, score=0.652 total time=   0.7s\n",
      "[CV 5/5] END criterion=entropy, min_samples_leaf=4, min_samples_split=2;, score=0.635 total time=   0.7s\n",
      "[CV 1/5] END criterion=entropy, min_samples_leaf=4, min_samples_split=4;, score=0.632 total time=   0.7s\n",
      "[CV 2/5] END criterion=entropy, min_samples_leaf=4, min_samples_split=4;, score=0.625 total time=   0.7s\n",
      "[CV 3/5] END criterion=entropy, min_samples_leaf=4, min_samples_split=4;, score=0.638 total time=   0.7s\n",
      "[CV 4/5] END criterion=entropy, min_samples_leaf=4, min_samples_split=4;, score=0.656 total time=   0.7s\n",
      "[CV 5/5] END criterion=entropy, min_samples_leaf=4, min_samples_split=4;, score=0.635 total time=   0.7s\n",
      "[CV 1/5] END criterion=log_loss, min_samples_leaf=2, min_samples_split=2;, score=0.629 total time=   0.7s\n",
      "[CV 2/5] END criterion=log_loss, min_samples_leaf=2, min_samples_split=2;, score=0.628 total time=   0.7s\n",
      "[CV 3/5] END criterion=log_loss, min_samples_leaf=2, min_samples_split=2;, score=0.637 total time=   0.7s\n",
      "[CV 4/5] END criterion=log_loss, min_samples_leaf=2, min_samples_split=2;, score=0.657 total time=   0.7s\n",
      "[CV 5/5] END criterion=log_loss, min_samples_leaf=2, min_samples_split=2;, score=0.636 total time=   0.7s\n",
      "[CV 1/5] END criterion=log_loss, min_samples_leaf=2, min_samples_split=4;, score=0.629 total time=   0.7s\n",
      "[CV 2/5] END criterion=log_loss, min_samples_leaf=2, min_samples_split=4;, score=0.627 total time=   0.7s\n",
      "[CV 3/5] END criterion=log_loss, min_samples_leaf=2, min_samples_split=4;, score=0.638 total time=   0.7s\n",
      "[CV 4/5] END criterion=log_loss, min_samples_leaf=2, min_samples_split=4;, score=0.652 total time=   0.7s\n",
      "[CV 5/5] END criterion=log_loss, min_samples_leaf=2, min_samples_split=4;, score=0.637 total time=   0.7s\n",
      "[CV 1/5] END criterion=log_loss, min_samples_leaf=4, min_samples_split=2;, score=0.633 total time=   0.7s\n",
      "[CV 2/5] END criterion=log_loss, min_samples_leaf=4, min_samples_split=2;, score=0.629 total time=   0.7s\n",
      "[CV 3/5] END criterion=log_loss, min_samples_leaf=4, min_samples_split=2;, score=0.639 total time=   0.7s\n",
      "[CV 4/5] END criterion=log_loss, min_samples_leaf=4, min_samples_split=2;, score=0.654 total time=   0.7s\n",
      "[CV 5/5] END criterion=log_loss, min_samples_leaf=4, min_samples_split=2;, score=0.639 total time=   0.7s\n",
      "[CV 1/5] END criterion=log_loss, min_samples_leaf=4, min_samples_split=4;, score=0.629 total time=   0.7s\n",
      "[CV 2/5] END criterion=log_loss, min_samples_leaf=4, min_samples_split=4;, score=0.627 total time=   0.7s\n",
      "[CV 3/5] END criterion=log_loss, min_samples_leaf=4, min_samples_split=4;, score=0.635 total time=   0.7s\n",
      "[CV 4/5] END criterion=log_loss, min_samples_leaf=4, min_samples_split=4;, score=0.655 total time=   0.7s\n",
      "[CV 5/5] END criterion=log_loss, min_samples_leaf=4, min_samples_split=4;, score=0.637 total time=   0.7s\n"
     ]
    },
    {
     "data": {
      "text/html": [
       "<style>#sk-container-id-1 {color: black;background-color: white;}#sk-container-id-1 pre{padding: 0;}#sk-container-id-1 div.sk-toggleable {background-color: white;}#sk-container-id-1 label.sk-toggleable__label {cursor: pointer;display: block;width: 100%;margin-bottom: 0;padding: 0.3em;box-sizing: border-box;text-align: center;}#sk-container-id-1 label.sk-toggleable__label-arrow:before {content: \"▸\";float: left;margin-right: 0.25em;color: #696969;}#sk-container-id-1 label.sk-toggleable__label-arrow:hover:before {color: black;}#sk-container-id-1 div.sk-estimator:hover label.sk-toggleable__label-arrow:before {color: black;}#sk-container-id-1 div.sk-toggleable__content {max-height: 0;max-width: 0;overflow: hidden;text-align: left;background-color: #f0f8ff;}#sk-container-id-1 div.sk-toggleable__content pre {margin: 0.2em;color: black;border-radius: 0.25em;background-color: #f0f8ff;}#sk-container-id-1 input.sk-toggleable__control:checked~div.sk-toggleable__content {max-height: 200px;max-width: 100%;overflow: auto;}#sk-container-id-1 input.sk-toggleable__control:checked~label.sk-toggleable__label-arrow:before {content: \"▾\";}#sk-container-id-1 div.sk-estimator input.sk-toggleable__control:checked~label.sk-toggleable__label {background-color: #d4ebff;}#sk-container-id-1 div.sk-label input.sk-toggleable__control:checked~label.sk-toggleable__label {background-color: #d4ebff;}#sk-container-id-1 input.sk-hidden--visually {border: 0;clip: rect(1px 1px 1px 1px);clip: rect(1px, 1px, 1px, 1px);height: 1px;margin: -1px;overflow: hidden;padding: 0;position: absolute;width: 1px;}#sk-container-id-1 div.sk-estimator {font-family: monospace;background-color: #f0f8ff;border: 1px dotted black;border-radius: 0.25em;box-sizing: border-box;margin-bottom: 0.5em;}#sk-container-id-1 div.sk-estimator:hover {background-color: #d4ebff;}#sk-container-id-1 div.sk-parallel-item::after {content: \"\";width: 100%;border-bottom: 1px solid gray;flex-grow: 1;}#sk-container-id-1 div.sk-label:hover label.sk-toggleable__label {background-color: #d4ebff;}#sk-container-id-1 div.sk-serial::before {content: \"\";position: absolute;border-left: 1px solid gray;box-sizing: border-box;top: 0;bottom: 0;left: 50%;z-index: 0;}#sk-container-id-1 div.sk-serial {display: flex;flex-direction: column;align-items: center;background-color: white;padding-right: 0.2em;padding-left: 0.2em;position: relative;}#sk-container-id-1 div.sk-item {position: relative;z-index: 1;}#sk-container-id-1 div.sk-parallel {display: flex;align-items: stretch;justify-content: center;background-color: white;position: relative;}#sk-container-id-1 div.sk-item::before, #sk-container-id-1 div.sk-parallel-item::before {content: \"\";position: absolute;border-left: 1px solid gray;box-sizing: border-box;top: 0;bottom: 0;left: 50%;z-index: -1;}#sk-container-id-1 div.sk-parallel-item {display: flex;flex-direction: column;z-index: 1;position: relative;background-color: white;}#sk-container-id-1 div.sk-parallel-item:first-child::after {align-self: flex-end;width: 50%;}#sk-container-id-1 div.sk-parallel-item:last-child::after {align-self: flex-start;width: 50%;}#sk-container-id-1 div.sk-parallel-item:only-child::after {width: 0;}#sk-container-id-1 div.sk-dashed-wrapped {border: 1px dashed gray;margin: 0 0.4em 0.5em 0.4em;box-sizing: border-box;padding-bottom: 0.4em;background-color: white;}#sk-container-id-1 div.sk-label label {font-family: monospace;font-weight: bold;display: inline-block;line-height: 1.2em;}#sk-container-id-1 div.sk-label-container {text-align: center;}#sk-container-id-1 div.sk-container {/* jupyter's `normalize.less` sets `[hidden] { display: none; }` but bootstrap.min.css set `[hidden] { display: none !important; }` so we also need the `!important` here to be able to override the default hidden behavior on the sphinx rendered scikit-learn.org. See: https://github.com/scikit-learn/scikit-learn/issues/21755 */display: inline-block !important;position: relative;}#sk-container-id-1 div.sk-text-repr-fallback {display: none;}</style><div id=\"sk-container-id-1\" class=\"sk-top-container\"><div class=\"sk-text-repr-fallback\"><pre>GridSearchCV(cv=5, estimator=RandomForestClassifier(),\n",
       "             param_grid={&#x27;criterion&#x27;: [&#x27;gini&#x27;, &#x27;entropy&#x27;, &#x27;log_loss&#x27;],\n",
       "                         &#x27;min_samples_leaf&#x27;: [2, 4],\n",
       "                         &#x27;min_samples_split&#x27;: [2, 4]},\n",
       "             verbose=3)</pre><b>In a Jupyter environment, please rerun this cell to show the HTML representation or trust the notebook. <br />On GitHub, the HTML representation is unable to render, please try loading this page with nbviewer.org.</b></div><div class=\"sk-container\" hidden><div class=\"sk-item sk-dashed-wrapped\"><div class=\"sk-label-container\"><div class=\"sk-label sk-toggleable\"><input class=\"sk-toggleable__control sk-hidden--visually\" id=\"sk-estimator-id-1\" type=\"checkbox\" ><label for=\"sk-estimator-id-1\" class=\"sk-toggleable__label sk-toggleable__label-arrow\">GridSearchCV</label><div class=\"sk-toggleable__content\"><pre>GridSearchCV(cv=5, estimator=RandomForestClassifier(),\n",
       "             param_grid={&#x27;criterion&#x27;: [&#x27;gini&#x27;, &#x27;entropy&#x27;, &#x27;log_loss&#x27;],\n",
       "                         &#x27;min_samples_leaf&#x27;: [2, 4],\n",
       "                         &#x27;min_samples_split&#x27;: [2, 4]},\n",
       "             verbose=3)</pre></div></div></div><div class=\"sk-parallel\"><div class=\"sk-parallel-item\"><div class=\"sk-item\"><div class=\"sk-label-container\"><div class=\"sk-label sk-toggleable\"><input class=\"sk-toggleable__control sk-hidden--visually\" id=\"sk-estimator-id-2\" type=\"checkbox\" ><label for=\"sk-estimator-id-2\" class=\"sk-toggleable__label sk-toggleable__label-arrow\">estimator: RandomForestClassifier</label><div class=\"sk-toggleable__content\"><pre>RandomForestClassifier()</pre></div></div></div><div class=\"sk-serial\"><div class=\"sk-item\"><div class=\"sk-estimator sk-toggleable\"><input class=\"sk-toggleable__control sk-hidden--visually\" id=\"sk-estimator-id-3\" type=\"checkbox\" ><label for=\"sk-estimator-id-3\" class=\"sk-toggleable__label sk-toggleable__label-arrow\">RandomForestClassifier</label><div class=\"sk-toggleable__content\"><pre>RandomForestClassifier()</pre></div></div></div></div></div></div></div></div></div></div>"
      ],
      "text/plain": [
       "GridSearchCV(cv=5, estimator=RandomForestClassifier(),\n",
       "             param_grid={'criterion': ['gini', 'entropy', 'log_loss'],\n",
       "                         'min_samples_leaf': [2, 4],\n",
       "                         'min_samples_split': [2, 4]},\n",
       "             verbose=3)"
      ]
     },
     "execution_count": 18,
     "metadata": {},
     "output_type": "execute_result"
    }
   ],
   "source": [
    "gs = GridSearchCV(estimator=RandomForestClassifier(),\n",
    "                  param_grid=params, cv=5, verbose=3)\n",
    "gs.fit(X_train_scaled_res, y_train_res) "
   ]
  },
  {
   "cell_type": "code",
   "execution_count": 19,
   "id": "a389a233",
   "metadata": {},
   "outputs": [
    {
     "data": {
      "text/plain": [
       "{'criterion': 'log_loss', 'min_samples_leaf': 4, 'min_samples_split': 2}"
      ]
     },
     "execution_count": 19,
     "metadata": {},
     "output_type": "execute_result"
    }
   ],
   "source": [
    "gs.best_params_"
   ]
  },
  {
   "cell_type": "markdown",
   "id": "93f9ab9d",
   "metadata": {},
   "source": [
    "##### Best Parameter: {'criterion': 'gini', 'min_samples_leaf': 2, 'min_samples_split': 4}\n"
   ]
  },
  {
   "cell_type": "code",
   "execution_count": 20,
   "id": "193a81f5",
   "metadata": {},
   "outputs": [
    {
     "data": {
      "text/plain": [
       "0.6388212180746562"
      ]
     },
     "execution_count": 20,
     "metadata": {},
     "output_type": "execute_result"
    }
   ],
   "source": [
    "gs.best_score_"
   ]
  },
  {
   "cell_type": "code",
   "execution_count": 21,
   "id": "36bf4a09",
   "metadata": {},
   "outputs": [
    {
     "data": {
      "text/plain": [
       "0.24623454842574588"
      ]
     },
     "execution_count": 21,
     "metadata": {},
     "output_type": "execute_result"
    }
   ],
   "source": [
    "y_train_pred = gs.predict(X_train_scaled_res)\n",
    "y_test_pred  = gs.predict(X_test_scaled)\n",
    "cohen_kappa_score(y_test, y_test_pred)"
   ]
  },
  {
   "cell_type": "code",
   "execution_count": 22,
   "id": "b74e30e6",
   "metadata": {},
   "outputs": [],
   "source": [
    "pickle.dump(gs.best_estimator_, open(config['models']['random_forest'], 'wb'))"
   ]
  },
  {
   "cell_type": "code",
   "execution_count": 23,
   "id": "73428528",
   "metadata": {},
   "outputs": [
    {
     "data": {
      "image/png": "[encoded data removed]",
      "text/plain": [
       "<Figure size 640x480 with 2 Axes>"
      ]
     },
     "metadata": {},
     "output_type": "display_data"
    },
    {
     "data": {
      "image/png": "[encoded data removed]",
      "text/plain": [
       "<Figure size 640x480 with 2 Axes>"
      ]
     },
     "metadata": {},
     "output_type": "display_data"
    }
   ],
   "source": [
    "# Plot confusion matrix for train set prediction\n",
    "cm_train = confusion_matrix(y_train_res, y_train_pred)\n",
    "ConfusionMatrixDisplay(cm_train, display_labels=gs.best_estimator_.classes_).plot()\n",
    "plt.show()\n",
    "\n",
    "# Plot confusion matrix for test set prediction\n",
    "cm_test = confusion_matrix(y_test, y_test_pred)\n",
    "ConfusionMatrixDisplay(cm_test, display_labels=gs.best_estimator_.classes_).plot()\n",
    "plt.show()"
   ]
  },
  {
   "cell_type": "code",
   "execution_count": 24,
   "id": "0df77274",
   "metadata": {},
   "outputs": [
    {
     "name": "stdout",
     "output_type": "stream",
     "text": [
      "Average accuracy on the train set: 0.6378388998035363\n",
      "Average accuracy on the test set: 0.6708000000000001\n"
     ]
    }
   ],
   "source": [
    "results = cross_val_score(gs.best_estimator_, X_train_scaled_res, y_train_res, cv=5)\n",
    "print(f\"Average accuracy on the train set: {results.mean()}\")\n",
    "results = cross_val_score(gs.best_estimator_, X_test_scaled, y_test, cv=5)\n",
    "print(f\"Average accuracy on the test set: {results.mean()}\")"
   ]
  },
  {
   "cell_type": "markdown",
   "id": "f5610e87",
   "metadata": {},
   "source": [
    "#### GridSearch for KNN-Classifier"
   ]
  },
  {
   "cell_type": "code",
   "execution_count": 25,
   "id": "26ad3616",
   "metadata": {
    "scrolled": false
   },
   "outputs": [
    {
     "name": "stdout",
     "output_type": "stream",
     "text": [
      "Fitting 5 folds for each of 32 candidates, totalling 160 fits\n",
      "[CV 1/5] END algorithm=auto, n_neighbors=3, weights=uniform;, score=0.571 total time=   0.3s\n",
      "[CV 2/5] END algorithm=auto, n_neighbors=3, weights=uniform;, score=0.586 total time=   0.3s\n",
      "[CV 3/5] END algorithm=auto, n_neighbors=3, weights=uniform;, score=0.577 total time=   0.3s\n",
      "[CV 4/5] END algorithm=auto, n_neighbors=3, weights=uniform;, score=0.602 total time=   0.3s\n",
      "[CV 5/5] END algorithm=auto, n_neighbors=3, weights=uniform;, score=0.588 total time=   0.3s\n",
      "[CV 1/5] END algorithm=auto, n_neighbors=3, weights=distance;, score=0.571 total time=   0.2s\n",
      "[CV 2/5] END algorithm=auto, n_neighbors=3, weights=distance;, score=0.586 total time=   0.2s\n",
      "[CV 3/5] END algorithm=auto, n_neighbors=3, weights=distance;, score=0.577 total time=   0.2s\n",
      "[CV 4/5] END algorithm=auto, n_neighbors=3, weights=distance;, score=0.602 total time=   0.2s\n",
      "[CV 5/5] END algorithm=auto, n_neighbors=3, weights=distance;, score=0.588 total time=   0.2s\n",
      "[CV 1/5] END algorithm=auto, n_neighbors=5, weights=uniform;, score=0.581 total time=   0.3s\n",
      "[CV 2/5] END algorithm=auto, n_neighbors=5, weights=uniform;, score=0.603 total time=   0.3s\n",
      "[CV 3/5] END algorithm=auto, n_neighbors=5, weights=uniform;, score=0.587 total time=   0.3s\n",
      "[CV 4/5] END algorithm=auto, n_neighbors=5, weights=uniform;, score=0.613 total time=   0.3s\n",
      "[CV 5/5] END algorithm=auto, n_neighbors=5, weights=uniform;, score=0.600 total time=   0.3s\n",
      "[CV 1/5] END algorithm=auto, n_neighbors=5, weights=distance;, score=0.581 total time=   0.2s\n",
      "[CV 2/5] END algorithm=auto, n_neighbors=5, weights=distance;, score=0.603 total time=   0.2s\n",
      "[CV 3/5] END algorithm=auto, n_neighbors=5, weights=distance;, score=0.587 total time=   0.2s\n",
      "[CV 4/5] END algorithm=auto, n_neighbors=5, weights=distance;, score=0.613 total time=   0.2s\n",
      "[CV 5/5] END algorithm=auto, n_neighbors=5, weights=distance;, score=0.600 total time=   0.2s\n",
      "[CV 1/5] END algorithm=auto, n_neighbors=8, weights=uniform;, score=0.605 total time=   0.3s\n",
      "[CV 2/5] END algorithm=auto, n_neighbors=8, weights=uniform;, score=0.601 total time=   0.3s\n",
      "[CV 3/5] END algorithm=auto, n_neighbors=8, weights=uniform;, score=0.599 total time=   0.3s\n",
      "[CV 4/5] END algorithm=auto, n_neighbors=8, weights=uniform;, score=0.628 total time=   0.3s\n",
      "[CV 5/5] END algorithm=auto, n_neighbors=8, weights=uniform;, score=0.624 total time=   0.3s\n",
      "[CV 1/5] END algorithm=auto, n_neighbors=8, weights=distance;, score=0.605 total time=   0.2s\n",
      "[CV 2/5] END algorithm=auto, n_neighbors=8, weights=distance;, score=0.600 total time=   0.2s\n",
      "[CV 3/5] END algorithm=auto, n_neighbors=8, weights=distance;, score=0.599 total time=   0.2s\n",
      "[CV 4/5] END algorithm=auto, n_neighbors=8, weights=distance;, score=0.628 total time=   0.2s\n",
      "[CV 5/5] END algorithm=auto, n_neighbors=8, weights=distance;, score=0.624 total time=   0.2s\n",
      "[CV 1/5] END algorithm=auto, n_neighbors=10, weights=uniform;, score=0.609 total time=   0.3s\n",
      "[CV 2/5] END algorithm=auto, n_neighbors=10, weights=uniform;, score=0.591 total time=   0.3s\n",
      "[CV 3/5] END algorithm=auto, n_neighbors=10, weights=uniform;, score=0.617 total time=   0.3s\n",
      "[CV 4/5] END algorithm=auto, n_neighbors=10, weights=uniform;, score=0.637 total time=   0.3s\n",
      "[CV 5/5] END algorithm=auto, n_neighbors=10, weights=uniform;, score=0.628 total time=   0.3s\n",
      "[CV 1/5] END algorithm=auto, n_neighbors=10, weights=distance;, score=0.609 total time=   0.2s\n",
      "[CV 2/5] END algorithm=auto, n_neighbors=10, weights=distance;, score=0.590 total time=   0.2s\n",
      "[CV 3/5] END algorithm=auto, n_neighbors=10, weights=distance;, score=0.617 total time=   0.2s\n",
      "[CV 4/5] END algorithm=auto, n_neighbors=10, weights=distance;, score=0.637 total time=   0.2s\n",
      "[CV 5/5] END algorithm=auto, n_neighbors=10, weights=distance;, score=0.629 total time=   0.2s\n",
      "[CV 1/5] END algorithm=ball_tree, n_neighbors=3, weights=uniform;, score=0.571 total time=   0.3s\n",
      "[CV 2/5] END algorithm=ball_tree, n_neighbors=3, weights=uniform;, score=0.586 total time=   0.3s\n",
      "[CV 3/5] END algorithm=ball_tree, n_neighbors=3, weights=uniform;, score=0.577 total time=   0.3s\n",
      "[CV 4/5] END algorithm=ball_tree, n_neighbors=3, weights=uniform;, score=0.602 total time=   0.3s\n",
      "[CV 5/5] END algorithm=ball_tree, n_neighbors=3, weights=uniform;, score=0.588 total time=   0.3s\n",
      "[CV 1/5] END algorithm=ball_tree, n_neighbors=3, weights=distance;, score=0.571 total time=   0.2s\n",
      "[CV 2/5] END algorithm=ball_tree, n_neighbors=3, weights=distance;, score=0.586 total time=   0.2s\n",
      "[CV 3/5] END algorithm=ball_tree, n_neighbors=3, weights=distance;, score=0.577 total time=   0.2s\n",
      "[CV 4/5] END algorithm=ball_tree, n_neighbors=3, weights=distance;, score=0.602 total time=   0.2s\n",
      "[CV 5/5] END algorithm=ball_tree, n_neighbors=3, weights=distance;, score=0.588 total time=   0.2s\n",
      "[CV 1/5] END algorithm=ball_tree, n_neighbors=5, weights=uniform;, score=0.581 total time=   0.3s\n",
      "[CV 2/5] END algorithm=ball_tree, n_neighbors=5, weights=uniform;, score=0.603 total time=   0.3s\n",
      "[CV 3/5] END algorithm=ball_tree, n_neighbors=5, weights=uniform;, score=0.587 total time=   0.3s\n",
      "[CV 4/5] END algorithm=ball_tree, n_neighbors=5, weights=uniform;, score=0.613 total time=   0.3s\n",
      "[CV 5/5] END algorithm=ball_tree, n_neighbors=5, weights=uniform;, score=0.600 total time=   0.3s\n",
      "[CV 1/5] END algorithm=ball_tree, n_neighbors=5, weights=distance;, score=0.581 total time=   0.2s\n",
      "[CV 2/5] END algorithm=ball_tree, n_neighbors=5, weights=distance;, score=0.603 total time=   0.2s\n",
      "[CV 3/5] END algorithm=ball_tree, n_neighbors=5, weights=distance;, score=0.587 total time=   0.2s\n",
      "[CV 4/5] END algorithm=ball_tree, n_neighbors=5, weights=distance;, score=0.613 total time=   0.2s\n",
      "[CV 5/5] END algorithm=ball_tree, n_neighbors=5, weights=distance;, score=0.600 total time=   0.2s\n",
      "[CV 1/5] END algorithm=ball_tree, n_neighbors=8, weights=uniform;, score=0.605 total time=   0.4s\n",
      "[CV 2/5] END algorithm=ball_tree, n_neighbors=8, weights=uniform;, score=0.601 total time=   0.4s\n",
      "[CV 3/5] END algorithm=ball_tree, n_neighbors=8, weights=uniform;, score=0.599 total time=   0.4s\n",
      "[CV 4/5] END algorithm=ball_tree, n_neighbors=8, weights=uniform;, score=0.628 total time=   0.3s\n",
      "[CV 5/5] END algorithm=ball_tree, n_neighbors=8, weights=uniform;, score=0.624 total time=   0.3s\n",
      "[CV 1/5] END algorithm=ball_tree, n_neighbors=8, weights=distance;, score=0.605 total time=   0.3s\n",
      "[CV 2/5] END algorithm=ball_tree, n_neighbors=8, weights=distance;, score=0.600 total time=   0.3s\n",
      "[CV 3/5] END algorithm=ball_tree, n_neighbors=8, weights=distance;, score=0.599 total time=   0.3s\n",
      "[CV 4/5] END algorithm=ball_tree, n_neighbors=8, weights=distance;, score=0.628 total time=   0.3s\n",
      "[CV 5/5] END algorithm=ball_tree, n_neighbors=8, weights=distance;, score=0.624 total time=   0.4s\n",
      "[CV 1/5] END algorithm=ball_tree, n_neighbors=10, weights=uniform;, score=0.609 total time=   0.4s\n",
      "[CV 2/5] END algorithm=ball_tree, n_neighbors=10, weights=uniform;, score=0.591 total time=   0.4s\n",
      "[CV 3/5] END algorithm=ball_tree, n_neighbors=10, weights=uniform;, score=0.617 total time=   0.4s\n",
      "[CV 4/5] END algorithm=ball_tree, n_neighbors=10, weights=uniform;, score=0.637 total time=   0.4s\n",
      "[CV 5/5] END algorithm=ball_tree, n_neighbors=10, weights=uniform;, score=0.628 total time=   0.4s\n",
      "[CV 1/5] END algorithm=ball_tree, n_neighbors=10, weights=distance;, score=0.609 total time=   0.3s\n",
      "[CV 2/5] END algorithm=ball_tree, n_neighbors=10, weights=distance;, score=0.590 total time=   0.3s\n",
      "[CV 3/5] END algorithm=ball_tree, n_neighbors=10, weights=distance;, score=0.617 total time=   0.3s\n",
      "[CV 4/5] END algorithm=ball_tree, n_neighbors=10, weights=distance;, score=0.637 total time=   0.3s\n",
      "[CV 5/5] END algorithm=ball_tree, n_neighbors=10, weights=distance;, score=0.629 total time=   0.3s\n",
      "[CV 1/5] END algorithm=kd_tree, n_neighbors=3, weights=uniform;, score=0.571 total time=   0.3s\n",
      "[CV 2/5] END algorithm=kd_tree, n_neighbors=3, weights=uniform;, score=0.586 total time=   0.3s\n",
      "[CV 3/5] END algorithm=kd_tree, n_neighbors=3, weights=uniform;, score=0.577 total time=   0.3s\n",
      "[CV 4/5] END algorithm=kd_tree, n_neighbors=3, weights=uniform;, score=0.602 total time=   0.3s\n",
      "[CV 5/5] END algorithm=kd_tree, n_neighbors=3, weights=uniform;, score=0.588 total time=   0.3s\n"
     ]
    },
    {
     "name": "stdout",
     "output_type": "stream",
     "text": [
      "[CV 1/5] END algorithm=kd_tree, n_neighbors=3, weights=distance;, score=0.571 total time=   0.2s\n",
      "[CV 2/5] END algorithm=kd_tree, n_neighbors=3, weights=distance;, score=0.586 total time=   0.2s\n",
      "[CV 3/5] END algorithm=kd_tree, n_neighbors=3, weights=distance;, score=0.577 total time=   0.2s\n",
      "[CV 4/5] END algorithm=kd_tree, n_neighbors=3, weights=distance;, score=0.602 total time=   0.2s\n",
      "[CV 5/5] END algorithm=kd_tree, n_neighbors=3, weights=distance;, score=0.588 total time=   0.2s\n",
      "[CV 1/5] END algorithm=kd_tree, n_neighbors=5, weights=uniform;, score=0.581 total time=   0.3s\n",
      "[CV 2/5] END algorithm=kd_tree, n_neighbors=5, weights=uniform;, score=0.603 total time=   0.3s\n",
      "[CV 3/5] END algorithm=kd_tree, n_neighbors=5, weights=uniform;, score=0.587 total time=   0.3s\n",
      "[CV 4/5] END algorithm=kd_tree, n_neighbors=5, weights=uniform;, score=0.613 total time=   0.3s\n",
      "[CV 5/5] END algorithm=kd_tree, n_neighbors=5, weights=uniform;, score=0.600 total time=   0.3s\n",
      "[CV 1/5] END algorithm=kd_tree, n_neighbors=5, weights=distance;, score=0.581 total time=   0.2s\n",
      "[CV 2/5] END algorithm=kd_tree, n_neighbors=5, weights=distance;, score=0.603 total time=   0.2s\n",
      "[CV 3/5] END algorithm=kd_tree, n_neighbors=5, weights=distance;, score=0.587 total time=   0.2s\n",
      "[CV 4/5] END algorithm=kd_tree, n_neighbors=5, weights=distance;, score=0.613 total time=   0.2s\n",
      "[CV 5/5] END algorithm=kd_tree, n_neighbors=5, weights=distance;, score=0.600 total time=   0.2s\n",
      "[CV 1/5] END algorithm=kd_tree, n_neighbors=8, weights=uniform;, score=0.605 total time=   0.3s\n",
      "[CV 2/5] END algorithm=kd_tree, n_neighbors=8, weights=uniform;, score=0.601 total time=   0.3s\n",
      "[CV 3/5] END algorithm=kd_tree, n_neighbors=8, weights=uniform;, score=0.599 total time=   0.3s\n",
      "[CV 4/5] END algorithm=kd_tree, n_neighbors=8, weights=uniform;, score=0.628 total time=   0.3s\n",
      "[CV 5/5] END algorithm=kd_tree, n_neighbors=8, weights=uniform;, score=0.624 total time=   0.4s\n",
      "[CV 1/5] END algorithm=kd_tree, n_neighbors=8, weights=distance;, score=0.605 total time=   0.2s\n",
      "[CV 2/5] END algorithm=kd_tree, n_neighbors=8, weights=distance;, score=0.600 total time=   0.2s\n",
      "[CV 3/5] END algorithm=kd_tree, n_neighbors=8, weights=distance;, score=0.599 total time=   0.2s\n",
      "[CV 4/5] END algorithm=kd_tree, n_neighbors=8, weights=distance;, score=0.628 total time=   0.2s\n",
      "[CV 5/5] END algorithm=kd_tree, n_neighbors=8, weights=distance;, score=0.624 total time=   0.2s\n",
      "[CV 1/5] END algorithm=kd_tree, n_neighbors=10, weights=uniform;, score=0.609 total time=   0.3s\n",
      "[CV 2/5] END algorithm=kd_tree, n_neighbors=10, weights=uniform;, score=0.591 total time=   0.3s\n",
      "[CV 3/5] END algorithm=kd_tree, n_neighbors=10, weights=uniform;, score=0.617 total time=   0.3s\n",
      "[CV 4/5] END algorithm=kd_tree, n_neighbors=10, weights=uniform;, score=0.637 total time=   0.3s\n",
      "[CV 5/5] END algorithm=kd_tree, n_neighbors=10, weights=uniform;, score=0.628 total time=   0.3s\n",
      "[CV 1/5] END algorithm=kd_tree, n_neighbors=10, weights=distance;, score=0.609 total time=   0.3s\n",
      "[CV 2/5] END algorithm=kd_tree, n_neighbors=10, weights=distance;, score=0.590 total time=   0.2s\n",
      "[CV 3/5] END algorithm=kd_tree, n_neighbors=10, weights=distance;, score=0.617 total time=   0.3s\n",
      "[CV 4/5] END algorithm=kd_tree, n_neighbors=10, weights=distance;, score=0.637 total time=   0.2s\n",
      "[CV 5/5] END algorithm=kd_tree, n_neighbors=10, weights=distance;, score=0.629 total time=   0.3s\n",
      "[CV 1/5] END algorithm=brute, n_neighbors=3, weights=uniform;, score=0.573 total time=   0.3s\n",
      "[CV 2/5] END algorithm=brute, n_neighbors=3, weights=uniform;, score=0.583 total time=   0.2s\n",
      "[CV 3/5] END algorithm=brute, n_neighbors=3, weights=uniform;, score=0.584 total time=   0.2s\n",
      "[CV 4/5] END algorithm=brute, n_neighbors=3, weights=uniform;, score=0.601 total time=   0.2s\n",
      "[CV 5/5] END algorithm=brute, n_neighbors=3, weights=uniform;, score=0.593 total time=   0.2s\n",
      "[CV 1/5] END algorithm=brute, n_neighbors=3, weights=distance;, score=0.573 total time=   0.2s\n",
      "[CV 2/5] END algorithm=brute, n_neighbors=3, weights=distance;, score=0.583 total time=   0.2s\n",
      "[CV 3/5] END algorithm=brute, n_neighbors=3, weights=distance;, score=0.584 total time=   0.1s\n",
      "[CV 4/5] END algorithm=brute, n_neighbors=3, weights=distance;, score=0.601 total time=   0.2s\n",
      "[CV 5/5] END algorithm=brute, n_neighbors=3, weights=distance;, score=0.593 total time=   0.2s\n",
      "[CV 1/5] END algorithm=brute, n_neighbors=5, weights=uniform;, score=0.580 total time=   0.2s\n",
      "[CV 2/5] END algorithm=brute, n_neighbors=5, weights=uniform;, score=0.599 total time=   0.3s\n",
      "[CV 3/5] END algorithm=brute, n_neighbors=5, weights=uniform;, score=0.590 total time=   0.3s\n",
      "[CV 4/5] END algorithm=brute, n_neighbors=5, weights=uniform;, score=0.613 total time=   0.2s\n",
      "[CV 5/5] END algorithm=brute, n_neighbors=5, weights=uniform;, score=0.597 total time=   0.2s\n",
      "[CV 1/5] END algorithm=brute, n_neighbors=5, weights=distance;, score=0.580 total time=   0.2s\n",
      "[CV 2/5] END algorithm=brute, n_neighbors=5, weights=distance;, score=0.599 total time=   0.2s\n",
      "[CV 3/5] END algorithm=brute, n_neighbors=5, weights=distance;, score=0.590 total time=   0.2s\n",
      "[CV 4/5] END algorithm=brute, n_neighbors=5, weights=distance;, score=0.613 total time=   0.2s\n",
      "[CV 5/5] END algorithm=brute, n_neighbors=5, weights=distance;, score=0.597 total time=   0.2s\n",
      "[CV 1/5] END algorithm=brute, n_neighbors=8, weights=uniform;, score=0.597 total time=   0.2s\n",
      "[CV 2/5] END algorithm=brute, n_neighbors=8, weights=uniform;, score=0.604 total time=   0.2s\n",
      "[CV 3/5] END algorithm=brute, n_neighbors=8, weights=uniform;, score=0.608 total time=   0.2s\n",
      "[CV 4/5] END algorithm=brute, n_neighbors=8, weights=uniform;, score=0.627 total time=   0.2s\n",
      "[CV 5/5] END algorithm=brute, n_neighbors=8, weights=uniform;, score=0.622 total time=   0.2s\n",
      "[CV 1/5] END algorithm=brute, n_neighbors=8, weights=distance;, score=0.597 total time=   0.2s\n",
      "[CV 2/5] END algorithm=brute, n_neighbors=8, weights=distance;, score=0.603 total time=   0.2s\n",
      "[CV 3/5] END algorithm=brute, n_neighbors=8, weights=distance;, score=0.608 total time=   0.2s\n",
      "[CV 4/5] END algorithm=brute, n_neighbors=8, weights=distance;, score=0.627 total time=   0.2s\n",
      "[CV 5/5] END algorithm=brute, n_neighbors=8, weights=distance;, score=0.622 total time=   0.2s\n",
      "[CV 1/5] END algorithm=brute, n_neighbors=10, weights=uniform;, score=0.607 total time=   0.2s\n",
      "[CV 2/5] END algorithm=brute, n_neighbors=10, weights=uniform;, score=0.592 total time=   0.2s\n",
      "[CV 3/5] END algorithm=brute, n_neighbors=10, weights=uniform;, score=0.618 total time=   0.3s\n",
      "[CV 4/5] END algorithm=brute, n_neighbors=10, weights=uniform;, score=0.637 total time=   0.2s\n",
      "[CV 5/5] END algorithm=brute, n_neighbors=10, weights=uniform;, score=0.631 total time=   0.2s\n",
      "[CV 1/5] END algorithm=brute, n_neighbors=10, weights=distance;, score=0.607 total time=   0.2s\n",
      "[CV 2/5] END algorithm=brute, n_neighbors=10, weights=distance;, score=0.591 total time=   0.2s\n",
      "[CV 3/5] END algorithm=brute, n_neighbors=10, weights=distance;, score=0.618 total time=   0.2s\n",
      "[CV 4/5] END algorithm=brute, n_neighbors=10, weights=distance;, score=0.637 total time=   0.2s\n",
      "[CV 5/5] END algorithm=brute, n_neighbors=10, weights=distance;, score=0.631 total time=   0.2s\n"
     ]
    },
    {
     "data": {
      "text/html": [
       "<style>#sk-container-id-2 {color: black;background-color: white;}#sk-container-id-2 pre{padding: 0;}#sk-container-id-2 div.sk-toggleable {background-color: white;}#sk-container-id-2 label.sk-toggleable__label {cursor: pointer;display: block;width: 100%;margin-bottom: 0;padding: 0.3em;box-sizing: border-box;text-align: center;}#sk-container-id-2 label.sk-toggleable__label-arrow:before {content: \"▸\";float: left;margin-right: 0.25em;color: #696969;}#sk-container-id-2 label.sk-toggleable__label-arrow:hover:before {color: black;}#sk-container-id-2 div.sk-estimator:hover label.sk-toggleable__label-arrow:before {color: black;}#sk-container-id-2 div.sk-toggleable__content {max-height: 0;max-width: 0;overflow: hidden;text-align: left;background-color: #f0f8ff;}#sk-container-id-2 div.sk-toggleable__content pre {margin: 0.2em;color: black;border-radius: 0.25em;background-color: #f0f8ff;}#sk-container-id-2 input.sk-toggleable__control:checked~div.sk-toggleable__content {max-height: 200px;max-width: 100%;overflow: auto;}#sk-container-id-2 input.sk-toggleable__control:checked~label.sk-toggleable__label-arrow:before {content: \"▾\";}#sk-container-id-2 div.sk-estimator input.sk-toggleable__control:checked~label.sk-toggleable__label {background-color: #d4ebff;}#sk-container-id-2 div.sk-label input.sk-toggleable__control:checked~label.sk-toggleable__label {background-color: #d4ebff;}#sk-container-id-2 input.sk-hidden--visually {border: 0;clip: rect(1px 1px 1px 1px);clip: rect(1px, 1px, 1px, 1px);height: 1px;margin: -1px;overflow: hidden;padding: 0;position: absolute;width: 1px;}#sk-container-id-2 div.sk-estimator {font-family: monospace;background-color: #f0f8ff;border: 1px dotted black;border-radius: 0.25em;box-sizing: border-box;margin-bottom: 0.5em;}#sk-container-id-2 div.sk-estimator:hover {background-color: #d4ebff;}#sk-container-id-2 div.sk-parallel-item::after {content: \"\";width: 100%;border-bottom: 1px solid gray;flex-grow: 1;}#sk-container-id-2 div.sk-label:hover label.sk-toggleable__label {background-color: #d4ebff;}#sk-container-id-2 div.sk-serial::before {content: \"\";position: absolute;border-left: 1px solid gray;box-sizing: border-box;top: 0;bottom: 0;left: 50%;z-index: 0;}#sk-container-id-2 div.sk-serial {display: flex;flex-direction: column;align-items: center;background-color: white;padding-right: 0.2em;padding-left: 0.2em;position: relative;}#sk-container-id-2 div.sk-item {position: relative;z-index: 1;}#sk-container-id-2 div.sk-parallel {display: flex;align-items: stretch;justify-content: center;background-color: white;position: relative;}#sk-container-id-2 div.sk-item::before, #sk-container-id-2 div.sk-parallel-item::before {content: \"\";position: absolute;border-left: 1px solid gray;box-sizing: border-box;top: 0;bottom: 0;left: 50%;z-index: -1;}#sk-container-id-2 div.sk-parallel-item {display: flex;flex-direction: column;z-index: 1;position: relative;background-color: white;}#sk-container-id-2 div.sk-parallel-item:first-child::after {align-self: flex-end;width: 50%;}#sk-container-id-2 div.sk-parallel-item:last-child::after {align-self: flex-start;width: 50%;}#sk-container-id-2 div.sk-parallel-item:only-child::after {width: 0;}#sk-container-id-2 div.sk-dashed-wrapped {border: 1px dashed gray;margin: 0 0.4em 0.5em 0.4em;box-sizing: border-box;padding-bottom: 0.4em;background-color: white;}#sk-container-id-2 div.sk-label label {font-family: monospace;font-weight: bold;display: inline-block;line-height: 1.2em;}#sk-container-id-2 div.sk-label-container {text-align: center;}#sk-container-id-2 div.sk-container {/* jupyter's `normalize.less` sets `[hidden] { display: none; }` but bootstrap.min.css set `[hidden] { display: none !important; }` so we also need the `!important` here to be able to override the default hidden behavior on the sphinx rendered scikit-learn.org. See: https://github.com/scikit-learn/scikit-learn/issues/21755 */display: inline-block !important;position: relative;}#sk-container-id-2 div.sk-text-repr-fallback {display: none;}</style><div id=\"sk-container-id-2\" class=\"sk-top-container\"><div class=\"sk-text-repr-fallback\"><pre>GridSearchCV(cv=5, estimator=KNeighborsClassifier(),\n",
       "             param_grid={&#x27;algorithm&#x27;: [&#x27;auto&#x27;, &#x27;ball_tree&#x27;, &#x27;kd_tree&#x27;, &#x27;brute&#x27;],\n",
       "                         &#x27;n_neighbors&#x27;: [3, 5, 8, 10],\n",
       "                         &#x27;weights&#x27;: [&#x27;uniform&#x27;, &#x27;distance&#x27;]},\n",
       "             verbose=3)</pre><b>In a Jupyter environment, please rerun this cell to show the HTML representation or trust the notebook. <br />On GitHub, the HTML representation is unable to render, please try loading this page with nbviewer.org.</b></div><div class=\"sk-container\" hidden><div class=\"sk-item sk-dashed-wrapped\"><div class=\"sk-label-container\"><div class=\"sk-label sk-toggleable\"><input class=\"sk-toggleable__control sk-hidden--visually\" id=\"sk-estimator-id-4\" type=\"checkbox\" ><label for=\"sk-estimator-id-4\" class=\"sk-toggleable__label sk-toggleable__label-arrow\">GridSearchCV</label><div class=\"sk-toggleable__content\"><pre>GridSearchCV(cv=5, estimator=KNeighborsClassifier(),\n",
       "             param_grid={&#x27;algorithm&#x27;: [&#x27;auto&#x27;, &#x27;ball_tree&#x27;, &#x27;kd_tree&#x27;, &#x27;brute&#x27;],\n",
       "                         &#x27;n_neighbors&#x27;: [3, 5, 8, 10],\n",
       "                         &#x27;weights&#x27;: [&#x27;uniform&#x27;, &#x27;distance&#x27;]},\n",
       "             verbose=3)</pre></div></div></div><div class=\"sk-parallel\"><div class=\"sk-parallel-item\"><div class=\"sk-item\"><div class=\"sk-label-container\"><div class=\"sk-label sk-toggleable\"><input class=\"sk-toggleable__control sk-hidden--visually\" id=\"sk-estimator-id-5\" type=\"checkbox\" ><label for=\"sk-estimator-id-5\" class=\"sk-toggleable__label sk-toggleable__label-arrow\">estimator: KNeighborsClassifier</label><div class=\"sk-toggleable__content\"><pre>KNeighborsClassifier()</pre></div></div></div><div class=\"sk-serial\"><div class=\"sk-item\"><div class=\"sk-estimator sk-toggleable\"><input class=\"sk-toggleable__control sk-hidden--visually\" id=\"sk-estimator-id-6\" type=\"checkbox\" ><label for=\"sk-estimator-id-6\" class=\"sk-toggleable__label sk-toggleable__label-arrow\">KNeighborsClassifier</label><div class=\"sk-toggleable__content\"><pre>KNeighborsClassifier()</pre></div></div></div></div></div></div></div></div></div></div>"
      ],
      "text/plain": [
       "GridSearchCV(cv=5, estimator=KNeighborsClassifier(),\n",
       "             param_grid={'algorithm': ['auto', 'ball_tree', 'kd_tree', 'brute'],\n",
       "                         'n_neighbors': [3, 5, 8, 10],\n",
       "                         'weights': ['uniform', 'distance']},\n",
       "             verbose=3)"
      ]
     },
     "execution_count": 25,
     "metadata": {},
     "output_type": "execute_result"
    }
   ],
   "source": [
    "params = {\n",
    "    'n_neighbors': [3, 5, 8, 10],\n",
    "    'weights': ['uniform', 'distance'],\n",
    "    'algorithm': ['auto', 'ball_tree', 'kd_tree', 'brute']\n",
    "}\n",
    "\n",
    "gs = GridSearchCV(estimator=KNeighborsClassifier(), param_grid=params, cv=5, verbose=3)\n",
    "gs.fit(X_train_scaled_res, y_train_res)"
   ]
  },
  {
   "cell_type": "code",
   "execution_count": 26,
   "id": "0328cad1",
   "metadata": {},
   "outputs": [
    {
     "data": {
      "text/plain": [
       "{'algorithm': 'brute', 'n_neighbors': 10, 'weights': 'uniform'}"
      ]
     },
     "execution_count": 26,
     "metadata": {},
     "output_type": "execute_result"
    }
   ],
   "source": [
    "gs.best_params_"
   ]
  },
  {
   "cell_type": "markdown",
   "id": "8a2d1118",
   "metadata": {},
   "source": [
    "##### Best parameters: {'algorithm': 'brute', 'n_neighbors': 10, 'weights': 'uniform'}"
   ]
  },
  {
   "cell_type": "code",
   "execution_count": 27,
   "id": "abcd4d54",
   "metadata": {},
   "outputs": [
    {
     "data": {
      "text/plain": [
       "0.6169744597249508"
      ]
     },
     "execution_count": 27,
     "metadata": {},
     "output_type": "execute_result"
    }
   ],
   "source": [
    "gs.best_score_"
   ]
  },
  {
   "cell_type": "code",
   "execution_count": 28,
   "id": "decada96",
   "metadata": {},
   "outputs": [
    {
     "data": {
      "text/plain": [
       "0.6458"
      ]
     },
     "execution_count": 28,
     "metadata": {},
     "output_type": "execute_result"
    }
   ],
   "source": [
    "y_train_pred = gs.predict(X_train_scaled_res)\n",
    "y_test_pred  = gs.predict(X_test_scaled)\n",
    "accuracy_score(y_test, y_test_pred)"
   ]
  },
  {
   "cell_type": "code",
   "execution_count": 29,
   "id": "4bae0f46",
   "metadata": {},
   "outputs": [],
   "source": [
    "pickle.dump(gs.best_estimator_, open(config['models']['knn'], 'wb'))"
   ]
  },
  {
   "cell_type": "code",
   "execution_count": 30,
   "id": "44c0243a",
   "metadata": {},
   "outputs": [
    {
     "data": {
      "image/png": "[encoded data removed]",
      "text/plain": [
       "<Figure size 640x480 with 2 Axes>"
      ]
     },
     "metadata": {},
     "output_type": "display_data"
    },
    {
     "data": {
      "image/png": "[encoded data removed]",
      "text/plain": [
       "<Figure size 640x480 with 2 Axes>"
      ]
     },
     "metadata": {},
     "output_type": "display_data"
    }
   ],
   "source": [
    "cm_train = confusion_matrix(y_train_res, y_train_pred)\n",
    "ConfusionMatrixDisplay(cm_train, display_labels=gs.best_estimator_.classes_).plot()\n",
    "plt.show()\n",
    "\n",
    "cm_test = confusion_matrix(y_test, y_test_pred)\n",
    "ConfusionMatrixDisplay(cm_test, display_labels=gs.best_estimator_.classes_).plot()\n",
    "plt.show()"
   ]
  },
  {
   "cell_type": "code",
   "execution_count": 31,
   "id": "c7571478",
   "metadata": {},
   "outputs": [
    {
     "name": "stdout",
     "output_type": "stream",
     "text": [
      "Average accuracy on the train set: 0.6169744597249508\n",
      "Average accuracy on the test set: 0.6355999999999999\n"
     ]
    }
   ],
   "source": [
    "results = cross_val_score(gs.best_estimator_, X_train_scaled_res, y_train_res, cv=5)\n",
    "print(f\"Average accuracy on the train set: {results.mean()}\")\n",
    "results = cross_val_score(gs.best_estimator_, X_test_scaled, y_test, cv=5)\n",
    "print(f\"Average accuracy on the test set: {results.mean()}\")"
   ]
  },
  {
   "cell_type": "markdown",
   "id": "7c176dfb",
   "metadata": {},
   "source": [
    "#### GridSearch for LogisticRegression"
   ]
  },
  {
   "cell_type": "code",
   "execution_count": 32,
   "id": "0cbb0ff5",
   "metadata": {},
   "outputs": [
    {
     "data": {
      "text/html": [
       "<style>#sk-container-id-3 {color: black;background-color: white;}#sk-container-id-3 pre{padding: 0;}#sk-container-id-3 div.sk-toggleable {background-color: white;}#sk-container-id-3 label.sk-toggleable__label {cursor: pointer;display: block;width: 100%;margin-bottom: 0;padding: 0.3em;box-sizing: border-box;text-align: center;}#sk-container-id-3 label.sk-toggleable__label-arrow:before {content: \"▸\";float: left;margin-right: 0.25em;color: #696969;}#sk-container-id-3 label.sk-toggleable__label-arrow:hover:before {color: black;}#sk-container-id-3 div.sk-estimator:hover label.sk-toggleable__label-arrow:before {color: black;}#sk-container-id-3 div.sk-toggleable__content {max-height: 0;max-width: 0;overflow: hidden;text-align: left;background-color: #f0f8ff;}#sk-container-id-3 div.sk-toggleable__content pre {margin: 0.2em;color: black;border-radius: 0.25em;background-color: #f0f8ff;}#sk-container-id-3 input.sk-toggleable__control:checked~div.sk-toggleable__content {max-height: 200px;max-width: 100%;overflow: auto;}#sk-container-id-3 input.sk-toggleable__control:checked~label.sk-toggleable__label-arrow:before {content: \"▾\";}#sk-container-id-3 div.sk-estimator input.sk-toggleable__control:checked~label.sk-toggleable__label {background-color: #d4ebff;}#sk-container-id-3 div.sk-label input.sk-toggleable__control:checked~label.sk-toggleable__label {background-color: #d4ebff;}#sk-container-id-3 input.sk-hidden--visually {border: 0;clip: rect(1px 1px 1px 1px);clip: rect(1px, 1px, 1px, 1px);height: 1px;margin: -1px;overflow: hidden;padding: 0;position: absolute;width: 1px;}#sk-container-id-3 div.sk-estimator {font-family: monospace;background-color: #f0f8ff;border: 1px dotted black;border-radius: 0.25em;box-sizing: border-box;margin-bottom: 0.5em;}#sk-container-id-3 div.sk-estimator:hover {background-color: #d4ebff;}#sk-container-id-3 div.sk-parallel-item::after {content: \"\";width: 100%;border-bottom: 1px solid gray;flex-grow: 1;}#sk-container-id-3 div.sk-label:hover label.sk-toggleable__label {background-color: #d4ebff;}#sk-container-id-3 div.sk-serial::before {content: \"\";position: absolute;border-left: 1px solid gray;box-sizing: border-box;top: 0;bottom: 0;left: 50%;z-index: 0;}#sk-container-id-3 div.sk-serial {display: flex;flex-direction: column;align-items: center;background-color: white;padding-right: 0.2em;padding-left: 0.2em;position: relative;}#sk-container-id-3 div.sk-item {position: relative;z-index: 1;}#sk-container-id-3 div.sk-parallel {display: flex;align-items: stretch;justify-content: center;background-color: white;position: relative;}#sk-container-id-3 div.sk-item::before, #sk-container-id-3 div.sk-parallel-item::before {content: \"\";position: absolute;border-left: 1px solid gray;box-sizing: border-box;top: 0;bottom: 0;left: 50%;z-index: -1;}#sk-container-id-3 div.sk-parallel-item {display: flex;flex-direction: column;z-index: 1;position: relative;background-color: white;}#sk-container-id-3 div.sk-parallel-item:first-child::after {align-self: flex-end;width: 50%;}#sk-container-id-3 div.sk-parallel-item:last-child::after {align-self: flex-start;width: 50%;}#sk-container-id-3 div.sk-parallel-item:only-child::after {width: 0;}#sk-container-id-3 div.sk-dashed-wrapped {border: 1px dashed gray;margin: 0 0.4em 0.5em 0.4em;box-sizing: border-box;padding-bottom: 0.4em;background-color: white;}#sk-container-id-3 div.sk-label label {font-family: monospace;font-weight: bold;display: inline-block;line-height: 1.2em;}#sk-container-id-3 div.sk-label-container {text-align: center;}#sk-container-id-3 div.sk-container {/* jupyter's `normalize.less` sets `[hidden] { display: none; }` but bootstrap.min.css set `[hidden] { display: none !important; }` so we also need the `!important` here to be able to override the default hidden behavior on the sphinx rendered scikit-learn.org. See: https://github.com/scikit-learn/scikit-learn/issues/21755 */display: inline-block !important;position: relative;}#sk-container-id-3 div.sk-text-repr-fallback {display: none;}</style><div id=\"sk-container-id-3\" class=\"sk-top-container\"><div class=\"sk-text-repr-fallback\"><pre>GridSearchCV(cv=5, estimator=LogisticRegression(),\n",
       "             param_grid={&#x27;max_iter&#x27;: [300],\n",
       "                         &#x27;penalty&#x27;: [&#x27;l1&#x27;, &#x27;l2&#x27;, &#x27;elasticnet&#x27;, &#x27;none&#x27;],\n",
       "                         &#x27;solver&#x27;: [&#x27;lbfgs&#x27;, &#x27;newton-cg&#x27;, &#x27;liblinear&#x27;, &#x27;sag&#x27;,\n",
       "                                    &#x27;saga&#x27;]})</pre><b>In a Jupyter environment, please rerun this cell to show the HTML representation or trust the notebook. <br />On GitHub, the HTML representation is unable to render, please try loading this page with nbviewer.org.</b></div><div class=\"sk-container\" hidden><div class=\"sk-item sk-dashed-wrapped\"><div class=\"sk-label-container\"><div class=\"sk-label sk-toggleable\"><input class=\"sk-toggleable__control sk-hidden--visually\" id=\"sk-estimator-id-7\" type=\"checkbox\" ><label for=\"sk-estimator-id-7\" class=\"sk-toggleable__label sk-toggleable__label-arrow\">GridSearchCV</label><div class=\"sk-toggleable__content\"><pre>GridSearchCV(cv=5, estimator=LogisticRegression(),\n",
       "             param_grid={&#x27;max_iter&#x27;: [300],\n",
       "                         &#x27;penalty&#x27;: [&#x27;l1&#x27;, &#x27;l2&#x27;, &#x27;elasticnet&#x27;, &#x27;none&#x27;],\n",
       "                         &#x27;solver&#x27;: [&#x27;lbfgs&#x27;, &#x27;newton-cg&#x27;, &#x27;liblinear&#x27;, &#x27;sag&#x27;,\n",
       "                                    &#x27;saga&#x27;]})</pre></div></div></div><div class=\"sk-parallel\"><div class=\"sk-parallel-item\"><div class=\"sk-item\"><div class=\"sk-label-container\"><div class=\"sk-label sk-toggleable\"><input class=\"sk-toggleable__control sk-hidden--visually\" id=\"sk-estimator-id-8\" type=\"checkbox\" ><label for=\"sk-estimator-id-8\" class=\"sk-toggleable__label sk-toggleable__label-arrow\">estimator: LogisticRegression</label><div class=\"sk-toggleable__content\"><pre>LogisticRegression()</pre></div></div></div><div class=\"sk-serial\"><div class=\"sk-item\"><div class=\"sk-estimator sk-toggleable\"><input class=\"sk-toggleable__control sk-hidden--visually\" id=\"sk-estimator-id-9\" type=\"checkbox\" ><label for=\"sk-estimator-id-9\" class=\"sk-toggleable__label sk-toggleable__label-arrow\">LogisticRegression</label><div class=\"sk-toggleable__content\"><pre>LogisticRegression()</pre></div></div></div></div></div></div></div></div></div></div>"
      ],
      "text/plain": [
       "GridSearchCV(cv=5, estimator=LogisticRegression(),\n",
       "             param_grid={'max_iter': [300],\n",
       "                         'penalty': ['l1', 'l2', 'elasticnet', 'none'],\n",
       "                         'solver': ['lbfgs', 'newton-cg', 'liblinear', 'sag',\n",
       "                                    'saga']})"
      ]
     },
     "execution_count": 32,
     "metadata": {},
     "output_type": "execute_result"
    }
   ],
   "source": [
    "params = {\n",
    "    'penalty': ['l1', 'l2', 'elasticnet', 'none'],\n",
    "    'solver' : ['lbfgs', 'newton-cg', 'liblinear', 'sag', 'saga'],\n",
    "    'max_iter': [300]\n",
    "}\n",
    "\n",
    "gs = GridSearchCV(estimator=LogisticRegression(), param_grid=params, cv=5)\n",
    "gs.fit(X_train_scaled_res, y_train_res)"
   ]
  },
  {
   "cell_type": "code",
   "execution_count": 33,
   "id": "b3e4dbc9",
   "metadata": {},
   "outputs": [
    {
     "data": {
      "text/plain": [
       "{'max_iter': 300, 'penalty': 'l1', 'solver': 'liblinear'}"
      ]
     },
     "execution_count": 33,
     "metadata": {},
     "output_type": "execute_result"
    }
   ],
   "source": [
    "gs.best_params_"
   ]
  },
  {
   "cell_type": "markdown",
   "id": "f7ca132d",
   "metadata": {},
   "source": [
    "##### Best parameters: {'max_iter': 300, 'penalty': 'l1', 'solver': 'liblinear'}"
   ]
  },
  {
   "cell_type": "code",
   "execution_count": 34,
   "id": "6c840aff",
   "metadata": {},
   "outputs": [
    {
     "data": {
      "text/plain": [
       "0.6412966601178782"
      ]
     },
     "execution_count": 34,
     "metadata": {},
     "output_type": "execute_result"
    }
   ],
   "source": [
    "gs.best_score_"
   ]
  },
  {
   "cell_type": "code",
   "execution_count": 35,
   "id": "3318b889",
   "metadata": {},
   "outputs": [
    {
     "data": {
      "text/plain": [
       "0.282259864425782"
      ]
     },
     "execution_count": 35,
     "metadata": {},
     "output_type": "execute_result"
    }
   ],
   "source": [
    "y_train_pred = gs.predict(X_train_scaled_res)\n",
    "y_test_pred  = gs.predict(X_test_scaled)\n",
    "cohen_kappa_score(y_test, y_test_pred)"
   ]
  },
  {
   "cell_type": "code",
   "execution_count": 36,
   "id": "968e2d14",
   "metadata": {},
   "outputs": [],
   "source": [
    "pickle.dump(gs.best_estimator_, open(config['models']['logistic_regression'], 'wb'))"
   ]
  },
  {
   "cell_type": "code",
   "execution_count": 37,
   "id": "14123f75",
   "metadata": {},
   "outputs": [
    {
     "data": {
      "image/png": "[encoded data removed]",
      "text/plain": [
       "<Figure size 640x480 with 2 Axes>"
      ]
     },
     "metadata": {},
     "output_type": "display_data"
    },
    {
     "data": {
      "image/png": "[encoded data removed]",
      "text/plain": [
       "<Figure size 640x480 with 2 Axes>"
      ]
     },
     "metadata": {},
     "output_type": "display_data"
    }
   ],
   "source": [
    "cm_train = confusion_matrix(y_train_res, y_train_pred)\n",
    "ConfusionMatrixDisplay(cm_train, display_labels=gs.best_estimator_.classes_).plot()\n",
    "plt.show()\n",
    "\n",
    "cm_test = confusion_matrix(y_test, y_test_pred)\n",
    "ConfusionMatrixDisplay(cm_test, display_labels=gs.best_estimator_.classes_).plot()\n",
    "plt.show()"
   ]
  },
  {
   "cell_type": "code",
   "execution_count": 38,
   "id": "abe9e46e",
   "metadata": {},
   "outputs": [
    {
     "name": "stdout",
     "output_type": "stream",
     "text": [
      "Average accuracy on the train set: 0.6412966601178782\n",
      "Average accuracy on the test set: 0.7008\n"
     ]
    }
   ],
   "source": [
    "results = cross_val_score(gs.best_estimator_, X_train_scaled_res, y_train_res, cv=5)\n",
    "print(f\"Average accuracy on the train set: {results.mean()}\")\n",
    "results = cross_val_score(gs.best_estimator_, X_test_scaled, y_test, cv=5)\n",
    "print(f\"Average accuracy on the test set: {results.mean()}\")"
   ]
  },
  {
   "cell_type": "code",
   "execution_count": null,
   "id": "50dd5563",
   "metadata": {},
   "outputs": [],
   "source": []
  },
  {
   "cell_type": "code",
   "execution_count": null,
   "id": "3d3c318a",
   "metadata": {},
   "outputs": [],
   "source": []
  }
 ],
 "metadata": {
  "kernelspec": {
   "display_name": "Python 3 (ipykernel)",
   "language": "python",
   "name": "python3"
  },
  "language_info": {
   "codemirror_mode": {
    "name": "ipython",
    "version": 3
   },
   "file_extension": ".py",
   "mimetype": "text/x-python",
   "name": "python",
   "nbconvert_exporter": "python",
   "pygments_lexer": "ipython3",
   "version": "3.9.15"
  }
 },
 "nbformat": 4,
 "nbformat_minor": 5
}
